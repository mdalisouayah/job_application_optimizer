{
 "cells": [
  {
   "cell_type": "markdown",
   "metadata": {},
   "source": [
    "# Job search and application"
   ]
  },
  {
   "cell_type": "code",
   "execution_count": 1,
   "metadata": {},
   "outputs": [],
   "source": [
    "# import libraries\n",
    "\n",
    "import numpy as np\n",
    "import pandas as pd\n",
    "import regex as re # to clean text\n",
    "import os #why?\n",
    "import time # to save csv to today's date\n",
    "import requests\n",
    "from bs4 import BeautifulSoup #to get data out of html or xml\n",
    "from collections import Counter # to count keyword appearance"
   ]
  },
  {
   "cell_type": "code",
   "execution_count": 2,
   "metadata": {
    "scrolled": true
   },
   "outputs": [],
   "source": [
    "# read the text file. the urls have been copied using the \"Copy All Urls\" chrome extension\n",
    "# while going through the saved searches results, with Cmd+Enter open the interesting jobs in a new tab \n",
    "\n",
    "with open('./urls.txt',\"r\") as urls:\n",
    "    urls = urls.readlines() "
   ]
  },
  {
   "cell_type": "code",
   "execution_count": 3,
   "metadata": {},
   "outputs": [],
   "source": [
    "#agent to interact with web content\n",
    "\n",
    "hdr = {'User-Agent': 'Mozilla/5.0'} "
   ]
  },
  {
   "cell_type": "code",
   "execution_count": null,
   "metadata": {},
   "outputs": [],
   "source": [
    "# check the request is successful\n",
    "\n",
    "res = []\n",
    "for url in urls:\n",
    "    res.append(requests.get(url,headers=hdr))\n",
    "\n",
    "for i in range(len(res)):\n",
    "    if(res[i].status_code) != 200:\n",
    "        print(i,res[i].status_code)\n",
    "\n",
    "# get the content of each url\n",
    "\n",
    "soup = []\n",
    "for i in range(len(res)):\n",
    "    soup.append(BeautifulSoup(res[i].content, 'lxml'))\n",
    "    # soup is a list of beautifulsoup objects"
   ]
  },
  {
   "cell_type": "code",
   "execution_count": 6,
   "metadata": {},
   "outputs": [],
   "source": [
    "# append each job description to a list\n",
    "\n",
    "jd = []\n",
    "for i in range(len(soup)):\n",
    "    \n",
    "# VentureFizz\n",
    "    if soup[i].find('div',{'class': 'views-field views-field-field-job-description'}):\n",
    "        jd.append(soup[i].find('div',{'class': 'views-field views-field-field-job-description'}))\n",
    "    \n",
    "# Linkedin\n",
    "    elif soup[i].find('div',{'class': 'description__text description__text--rich'}):\n",
    "        jd.append(soup[i].find('div',{'class': 'description__text description__text--rich'}))\n",
    "    \n",
    "# indeed.com\n",
    "    elif soup[i].find('div',{'class': 'jobsearch-JobComponent icl-u-xs-mt--sm'}):\n",
    "        jd.append(soup[i].find('div',{'class': 'jobsearch-JobComponent icl-u-xs-mt--sm'}))\n",
    "\n",
    "# Glassdoor?\n",
    "    elif soup[i].find(name='div', attrs={'id':'JobDescriptionContainer','class': 'gdGrid tabSection p-std mt-0'}):\n",
    "        jd.append(soup[i].find(name='div', attrs={'id':'JobDescriptionContainer','class': 'gdGrid tabSection p-std mt-0'})) #glassdoor\n",
    "\n",
    "# dice.com \n",
    "    else: \n",
    "        jd.append(soup[i].find(name='div', attrs={'id':'jobdescSec','class': 'highlight-black'}))"
   ]
  },
  {
   "cell_type": "markdown",
   "metadata": {},
   "source": [
    "## Improvement point: \n",
    "- skip problematic jobs/lines"
   ]
  },
  {
   "cell_type": "code",
   "execution_count": 7,
   "metadata": {
    "scrolled": true
   },
   "outputs": [
    {
     "name": "stdout",
     "output_type": "stream",
     "text": [
      "error on 12\n",
      "error on 76\n",
      "error on 78\n",
      "error on 124\n"
     ]
    }
   ],
   "source": [
    "# split the job descriptions into a list of words\n",
    "# if the job description can't be read(empty) let me know which post ...\n",
    "# ... it has probably expired and needs to be ommitted\n",
    "\n",
    "job_desc = [] # list of all words in the job desc\n",
    "for i in range(len(jd)):\n",
    "    try:\n",
    "        job_desc.append(re.findall(r'[A-z]+', jd[i].text))\n",
    "    except AttributeError:\n",
    "        print('error on {}'.format (i))\n",
    "        job_desc.append(re.findall(r'[A-z]+', jd[i-1].text)) # temp fix: if there is an error append \n",
    "                                                             # the prior cleared post\n",
    "                                                            # code will break if two consecutive posts are problematic\n"
   ]
  },
  {
   "cell_type": "code",
   "execution_count": 8,
   "metadata": {},
   "outputs": [],
   "source": [
    "# small cap all keywords to be matched with the dictionary of search words\n",
    "\n",
    "for i in range(len(job_desc)):\n",
    "    job_desc[i] = [x.lower() for x in job_desc[i]]"
   ]
  },
  {
   "cell_type": "code",
   "execution_count": 10,
   "metadata": {},
   "outputs": [],
   "source": [
    "#assign a weight for each keyword\n",
    "\n",
    "keywords = {\n",
    "            'cfa':10,'arabic':10,'french':10,'returnship':10,'re-ignite':10,'relaunch':10,'boston':10,\n",
    "            'mba':7,'python':7,\n",
    "            'fp':5,'analytics':5,'analysis':5,'analyze':5,'analyzes':5,'analytical':5,'analyzing':5,\n",
    "            'tableau':5,'sql':5,'excel':5,\n",
    "            'finance':3,'financial':3,'financials':3,\n",
    "            'data':2,'dataset':2,'datasets':2,\n",
    "            'predict':2, 'projections':2,'projections':2,'predictive':2, 'forecaset':2,\n",
    "            'valuation':2, 'valuations':2, \n",
    "            'model':2, 'models':2, 'modeling':2, 'decisions':2,\n",
    "            'trend':1, 'trends':1, 'plan':1,'plans':1, 'planning':1, 'budget':1,\n",
    "            'metric':1,'insight':1,'insights':1,\n",
    "           }"
   ]
  },
  {
   "cell_type": "code",
   "execution_count": 11,
   "metadata": {},
   "outputs": [],
   "source": [
    "# match the job description to the dictionary of keywords\n",
    "\n",
    "keywords_lol = [] # list of (lists of) matching keywords of all jobs\n",
    "\n",
    "for i in range(len(job_desc)):\n",
    "    job_desc_keywords = [] # list of matching keywords for each job\n",
    "    for word in job_desc[i]:\n",
    "        if word in keywords.keys():\n",
    "            job_desc_keywords.append(word)\n",
    "    keywords_lol.append(job_desc_keywords)"
   ]
  },
  {
   "cell_type": "code",
   "execution_count": 14,
   "metadata": {},
   "outputs": [],
   "source": [
    "# replace each keyword by its weight equivalent\n",
    "\n",
    "scores_lol = [] # list of (lists of) job scores\n",
    "\n",
    "for i in range(len(keywords_lol)):\n",
    "    job_score = [] # score of each job\n",
    "    for word in keywords_lol[i]:\n",
    "        job_score.append(keywords[word])\n",
    "    scores_lol.append(sum(job_score))"
   ]
  },
  {
   "cell_type": "code",
   "execution_count": 15,
   "metadata": {},
   "outputs": [],
   "source": [
    "# create the dataframe\n",
    "jobs = pd.DataFrame(columns=['link', 'appeal'])"
   ]
  },
  {
   "cell_type": "code",
   "execution_count": 16,
   "metadata": {},
   "outputs": [],
   "source": [
    "# clean up the urls\n",
    "urls = [x.replace('\\n',\"\") for x in urls]"
   ]
  },
  {
   "cell_type": "code",
   "execution_count": 17,
   "metadata": {
    "scrolled": true
   },
   "outputs": [],
   "source": [
    "# fill in the data frame\n",
    "jobs = jobs.assign(appeal=scores_lol, link = urls).fillna(0)"
   ]
  },
  {
   "cell_type": "code",
   "execution_count": 18,
   "metadata": {},
   "outputs": [],
   "source": [
    "# drop duplicate URLs\n",
    "jobs = jobs.drop_duplicates(subset=['link','appeal'])"
   ]
  },
  {
   "cell_type": "code",
   "execution_count": 19,
   "metadata": {},
   "outputs": [],
   "source": [
    "# create another column and mark all jobs as not applied to\n",
    "jobs['application'] = 'not yet applied'"
   ]
  },
  {
   "cell_type": "code",
   "execution_count": 20,
   "metadata": {
    "scrolled": true
   },
   "outputs": [],
   "source": [
    "# do not abridge the urls\n",
    "pd.set_option('display.max_colwidth', None)"
   ]
  },
  {
   "cell_type": "code",
   "execution_count": 21,
   "metadata": {},
   "outputs": [
    {
     "data": {
      "text/html": [
       "<div>\n",
       "<style scoped>\n",
       "    .dataframe tbody tr th:only-of-type {\n",
       "        vertical-align: middle;\n",
       "    }\n",
       "\n",
       "    .dataframe tbody tr th {\n",
       "        vertical-align: top;\n",
       "    }\n",
       "\n",
       "    .dataframe thead th {\n",
       "        text-align: right;\n",
       "    }\n",
       "</style>\n",
       "<table border=\"1\" class=\"dataframe\">\n",
       "  <thead>\n",
       "    <tr style=\"text-align: right;\">\n",
       "      <th></th>\n",
       "      <th>link</th>\n",
       "      <th>appeal</th>\n",
       "      <th>application</th>\n",
       "    </tr>\n",
       "  </thead>\n",
       "  <tbody>\n",
       "    <tr>\n",
       "      <th>0</th>\n",
       "      <td>https://www.indeed.com/viewjob?jk=6c659eccabf4a45b&amp;q=Python+Analytics+Data+Finance+MBA+excel+(analysis+or+Analyst+or+Analyses+or+Analytical+or+Analyzing+or+Dataset+or+Datasets+or+Financial+or+Financials+or+Decisions+or+Insight+or+Insights+or+Analytics+or+Analysis+or+Analyst+or+Analyses+or+Analytical+or+Anal&amp;l=Brookline,+MA&amp;tk=1e49ospml32vi802&amp;from=ja&amp;alid=5dcf23fc803d2451183c3f08&amp;utm_campaign=job_alerts&amp;utm_medium=email&amp;utm_source=jobseeker_emails&amp;rgtk=1e49ospml32vi802</td>\n",
       "      <td>195</td>\n",
       "      <td>not yet applied</td>\n",
       "    </tr>\n",
       "    <tr>\n",
       "      <th>1</th>\n",
       "      <td>https://www.indeed.com/viewjob?jk=011b15460b8771f7&amp;q=Python+Analytics+Data+Finance+MBA+excel+(analysis+or+Analyst+or+Analyses+or+Analytical+or+Analyzing+or+Dataset+or+Datasets+or+Financial+or+Financials+or+Decisions+or+Insight+or+Insights+or+Analytics+or+Analysis+or+Analyst+or+Analyses+or+Analytical+or+Anal&amp;l=United+States&amp;tk=1e3npd4df36v0800&amp;from=ja&amp;alid=5dcf2719803d2451183c4152&amp;utm_campaign=job_alerts&amp;utm_medium=email&amp;utm_source=jobseeker_emails&amp;rgtk=1e3npd4df36v0800</td>\n",
       "      <td>101</td>\n",
       "      <td>not yet applied</td>\n",
       "    </tr>\n",
       "    <tr>\n",
       "      <th>2</th>\n",
       "      <td>https://www.indeed.com/viewjob?jk=f83badafea23ce6c&amp;q=Python+Analytics+Data+Finance+MBA+excel+(analysis+or+Analyst+or+Analyses+or+Analytical+or+Analyzing+or+Dataset+or+Datasets+or+Financial+or+Financials+or+Decisions+or+Insight+or+Insights+or+Analytics+or+Analysis+or+Analyst+or+Analyses+or+Analytical+or+Anal&amp;l=United+States&amp;tk=1e4rrvhv02ta4800&amp;from=ja&amp;alid=5dcf2719803d2451183c4152&amp;utm_campaign=job_alerts&amp;utm_medium=email&amp;utm_source=jobseeker_emails&amp;rgtk=1e4rrvhv02ta4800</td>\n",
       "      <td>150</td>\n",
       "      <td>not yet applied</td>\n",
       "    </tr>\n",
       "    <tr>\n",
       "      <th>3</th>\n",
       "      <td>https://www.indeed.com/viewjob?jk=07f9fbc2899778d1&amp;q=python+analytics+data+finance+SQL+(analysis+or+analyze+or+analyses+or+analytical+or+analyzing+or+dataset+or+datasets+or+financial+or+financials+or+decisions+or+insight+or+insights+or+analytics+or+analysis+or+analyze+or+analyses+or+analytical+or+analyzing+&amp;l=Brookline&amp;tk=1e4rs41pi381h801&amp;from=ja&amp;advn=1343250976351098&amp;adid=315897298&amp;sjdu=i6xVERweJM_pVUvgf-MzuVJvpP-MaR_hWGGPPJrzQ5gblBxFjctZ0k8ChKLFXuLpEeQtSDbhkItY20XhSzlNdtEibdyPxFKZ-0PGAEnx3WY&amp;acatk=1e4sf7dpahdmg800&amp;pub=e4ea14867e765046&amp;utm_campaign=job_alerts&amp;utm_medium=email&amp;utm_source=jobseeker_emails</td>\n",
       "      <td>183</td>\n",
       "      <td>not yet applied</td>\n",
       "    </tr>\n",
       "    <tr>\n",
       "      <th>6</th>\n",
       "      <td>https://www.linkedin.com/jobs/view/1749285376/?eBP=NotAvailableFromVoyagerAPI&amp;refId=49160274-dcd6-4cfe-bc95-303d1c4fee85&amp;trk=d_flagship3_search_srp_jobs</td>\n",
       "      <td>74</td>\n",
       "      <td>not yet applied</td>\n",
       "    </tr>\n",
       "  </tbody>\n",
       "</table>\n",
       "</div>"
      ],
      "text/plain": [
       "                                                                                                                                                                                                                                                                                                                                                                                                                                                                                                                                                                                                                                  link  \\\n",
       "0                                                                                                                                            https://www.indeed.com/viewjob?jk=6c659eccabf4a45b&q=Python+Analytics+Data+Finance+MBA+excel+(analysis+or+Analyst+or+Analyses+or+Analytical+or+Analyzing+or+Dataset+or+Datasets+or+Financial+or+Financials+or+Decisions+or+Insight+or+Insights+or+Analytics+or+Analysis+or+Analyst+or+Analyses+or+Analytical+or+Anal&l=Brookline,+MA&tk=1e49ospml32vi802&from=ja&alid=5dcf23fc803d2451183c3f08&utm_campaign=job_alerts&utm_medium=email&utm_source=jobseeker_emails&rgtk=1e49ospml32vi802   \n",
       "1                                                                                                                                            https://www.indeed.com/viewjob?jk=011b15460b8771f7&q=Python+Analytics+Data+Finance+MBA+excel+(analysis+or+Analyst+or+Analyses+or+Analytical+or+Analyzing+or+Dataset+or+Datasets+or+Financial+or+Financials+or+Decisions+or+Insight+or+Insights+or+Analytics+or+Analysis+or+Analyst+or+Analyses+or+Analytical+or+Anal&l=United+States&tk=1e3npd4df36v0800&from=ja&alid=5dcf2719803d2451183c4152&utm_campaign=job_alerts&utm_medium=email&utm_source=jobseeker_emails&rgtk=1e3npd4df36v0800   \n",
       "2                                                                                                                                            https://www.indeed.com/viewjob?jk=f83badafea23ce6c&q=Python+Analytics+Data+Finance+MBA+excel+(analysis+or+Analyst+or+Analyses+or+Analytical+or+Analyzing+or+Dataset+or+Datasets+or+Financial+or+Financials+or+Decisions+or+Insight+or+Insights+or+Analytics+or+Analysis+or+Analyst+or+Analyses+or+Analytical+or+Anal&l=United+States&tk=1e4rrvhv02ta4800&from=ja&alid=5dcf2719803d2451183c4152&utm_campaign=job_alerts&utm_medium=email&utm_source=jobseeker_emails&rgtk=1e4rrvhv02ta4800   \n",
       "3  https://www.indeed.com/viewjob?jk=07f9fbc2899778d1&q=python+analytics+data+finance+SQL+(analysis+or+analyze+or+analyses+or+analytical+or+analyzing+or+dataset+or+datasets+or+financial+or+financials+or+decisions+or+insight+or+insights+or+analytics+or+analysis+or+analyze+or+analyses+or+analytical+or+analyzing+&l=Brookline&tk=1e4rs41pi381h801&from=ja&advn=1343250976351098&adid=315897298&sjdu=i6xVERweJM_pVUvgf-MzuVJvpP-MaR_hWGGPPJrzQ5gblBxFjctZ0k8ChKLFXuLpEeQtSDbhkItY20XhSzlNdtEibdyPxFKZ-0PGAEnx3WY&acatk=1e4sf7dpahdmg800&pub=e4ea14867e765046&utm_campaign=job_alerts&utm_medium=email&utm_source=jobseeker_emails   \n",
       "6                                                                                                                                                                                                                                                                                                                                                                                                                                                                             https://www.linkedin.com/jobs/view/1749285376/?eBP=NotAvailableFromVoyagerAPI&refId=49160274-dcd6-4cfe-bc95-303d1c4fee85&trk=d_flagship3_search_srp_jobs   \n",
       "\n",
       "   appeal      application  \n",
       "0     195  not yet applied  \n",
       "1     101  not yet applied  \n",
       "2     150  not yet applied  \n",
       "3     183  not yet applied  \n",
       "6      74  not yet applied  "
      ]
     },
     "execution_count": 21,
     "metadata": {},
     "output_type": "execute_result"
    }
   ],
   "source": [
    "# check the DF\n",
    "jobs.head()"
   ]
  },
  {
   "cell_type": "code",
   "execution_count": 22,
   "metadata": {},
   "outputs": [],
   "source": [
    "# save df to a csv file\n",
    "jobs.to_csv('./jobs_{}.csv'.format(time.strftime(\"%Y%m%d\")))"
   ]
  },
  {
   "cell_type": "code",
   "execution_count": 23,
   "metadata": {},
   "outputs": [
    {
     "data": {
      "text/html": [
       "<div>\n",
       "<style scoped>\n",
       "    .dataframe tbody tr th:only-of-type {\n",
       "        vertical-align: middle;\n",
       "    }\n",
       "\n",
       "    .dataframe tbody tr th {\n",
       "        vertical-align: top;\n",
       "    }\n",
       "\n",
       "    .dataframe thead th {\n",
       "        text-align: right;\n",
       "    }\n",
       "</style>\n",
       "<table border=\"1\" class=\"dataframe\">\n",
       "  <thead>\n",
       "    <tr style=\"text-align: right;\">\n",
       "      <th></th>\n",
       "      <th>link</th>\n",
       "      <th>appeal</th>\n",
       "      <th>application</th>\n",
       "    </tr>\n",
       "  </thead>\n",
       "  <tbody>\n",
       "    <tr>\n",
       "      <th>36</th>\n",
       "      <td>https://www.linkedin.com/jobs/view/1810167392/?eBP=NotAvailableFromVoyagerAPI&amp;recommendedFlavor=COMPANY_RECRUIT&amp;refId=708128e9-d603-46a5-aaa9-6656059de09c&amp;trk=d_flagship3_search_srp_jobs</td>\n",
       "      <td>314</td>\n",
       "      <td>not yet applied</td>\n",
       "    </tr>\n",
       "    <tr>\n",
       "      <th>95</th>\n",
       "      <td>https://www.indeed.com/viewjob?jk=f51398bd7dd0474c&amp;q=Python+Analytics+Data+Finance+MBA+excel+(analysis+or+Analyst+or+Analyses+or+Analytical+or+Analyzing+or+Dataset+or+Datasets+or+Financial+or+Financials+or+Decisions+or+Insight+or+Insights+or+Analytics+or+Analysis+or+Analyst+or+Analyses+or+Analytical+or+Anal&amp;l=United+States&amp;tk=1e5dr7617283p806&amp;from=ja&amp;advn=782336216336969&amp;adid=329327108&amp;sjdu=7BeRdT5uW8zd9J94pO4lsGI0Ja_kBs24iFGcI7wf15q550Mg1xAZesiZ5AabnRzOHq-Q0lbAQs6iicjzkHTf5wfanGPXGgjv-Gh8FMmu3qcMJJq_WWRfP6XhTeSU8Q4g&amp;acatk=1e5h2dgsb4sv7800&amp;pub=e4ea14867e765046&amp;utm_campaign=job_alerts&amp;utm_medium=email&amp;utm_source=jobseeker_emails</td>\n",
       "      <td>294</td>\n",
       "      <td>not yet applied</td>\n",
       "    </tr>\n",
       "    <tr>\n",
       "      <th>20</th>\n",
       "      <td>https://www.linkedin.com/jobs/view/1806883960/?eBP=NotAvailableFromVoyagerAPI&amp;refId=8837b68a-ed40-4b8b-9ead-5c2b2596e8e0&amp;trk=d_flagship3_search_srp_jobs</td>\n",
       "      <td>240</td>\n",
       "      <td>not yet applied</td>\n",
       "    </tr>\n",
       "    <tr>\n",
       "      <th>64</th>\n",
       "      <td>https://www.linkedin.com/jobs/view/1806883960/?eBP=CwEAAAFxRS9HLsz6PcFWwrY6Soxli4AEf9V3sdQPqrDT2jSdQfMmSGpUI3ulV6E3awuBwPtDhB-YJyS3Zqz7uKw76z3qVRudYgVcSYOUrb68_os8q_D7T6zl7rT3n3E5Ckw0ZOIA9a0JV52MuSXGulsdByssu7-D3i2NvyE69qJdjjV34d4uxRvLWxkAmULvRqwMmfL3xPBGKvSzUVTNWRuzsyffElxaM1AY-wWfLXhdf4zoPyHI0EShRs1HuB0TXConUNSzRFzIKy9RjxpM_uIrglKT0tDcrh0YvqhiTf-om2caux0wU6Tvw387vRg-TfiP9_Tlz-K1eEuZ2UB3frz9vHy3zQJoz4uXLtrP3b0xdahPbxWPTzMHMZAgp1v4uHL2LIyygyerfg16JaU&amp;refId=e2667841-283d-4c9a-ba7b-afaa25c979d8&amp;trk=d_flagship3_search_srp_jobs</td>\n",
       "      <td>240</td>\n",
       "      <td>not yet applied</td>\n",
       "    </tr>\n",
       "    <tr>\n",
       "      <th>73</th>\n",
       "      <td>https://www.linkedin.com/jobs/view/1806883960/?eBP=JOB_SEARCH_ORGANIC&amp;refId=7f1de094-9b9d-47cf-a3c4-7257d67a64fb&amp;trk=d_flagship3_search_srp_jobs</td>\n",
       "      <td>240</td>\n",
       "      <td>not yet applied</td>\n",
       "    </tr>\n",
       "  </tbody>\n",
       "</table>\n",
       "</div>"
      ],
      "text/plain": [
       "                                                                                                                                                                                                                                                                                                                                                                                                                                                                                                                                                                                                                                                           link  \\\n",
       "36                                                                                                                                                                                                                                                                                                                                                                                                                                                                   https://www.linkedin.com/jobs/view/1810167392/?eBP=NotAvailableFromVoyagerAPI&recommendedFlavor=COMPANY_RECRUIT&refId=708128e9-d603-46a5-aaa9-6656059de09c&trk=d_flagship3_search_srp_jobs   \n",
       "95  https://www.indeed.com/viewjob?jk=f51398bd7dd0474c&q=Python+Analytics+Data+Finance+MBA+excel+(analysis+or+Analyst+or+Analyses+or+Analytical+or+Analyzing+or+Dataset+or+Datasets+or+Financial+or+Financials+or+Decisions+or+Insight+or+Insights+or+Analytics+or+Analysis+or+Analyst+or+Analyses+or+Analytical+or+Anal&l=United+States&tk=1e5dr7617283p806&from=ja&advn=782336216336969&adid=329327108&sjdu=7BeRdT5uW8zd9J94pO4lsGI0Ja_kBs24iFGcI7wf15q550Mg1xAZesiZ5AabnRzOHq-Q0lbAQs6iicjzkHTf5wfanGPXGgjv-Gh8FMmu3qcMJJq_WWRfP6XhTeSU8Q4g&acatk=1e5h2dgsb4sv7800&pub=e4ea14867e765046&utm_campaign=job_alerts&utm_medium=email&utm_source=jobseeker_emails   \n",
       "20                                                                                                                                                                                                                                                                                                                                                                                                                                                                                                     https://www.linkedin.com/jobs/view/1806883960/?eBP=NotAvailableFromVoyagerAPI&refId=8837b68a-ed40-4b8b-9ead-5c2b2596e8e0&trk=d_flagship3_search_srp_jobs   \n",
       "64                                                                                                            https://www.linkedin.com/jobs/view/1806883960/?eBP=CwEAAAFxRS9HLsz6PcFWwrY6Soxli4AEf9V3sdQPqrDT2jSdQfMmSGpUI3ulV6E3awuBwPtDhB-YJyS3Zqz7uKw76z3qVRudYgVcSYOUrb68_os8q_D7T6zl7rT3n3E5Ckw0ZOIA9a0JV52MuSXGulsdByssu7-D3i2NvyE69qJdjjV34d4uxRvLWxkAmULvRqwMmfL3xPBGKvSzUVTNWRuzsyffElxaM1AY-wWfLXhdf4zoPyHI0EShRs1HuB0TXConUNSzRFzIKy9RjxpM_uIrglKT0tDcrh0YvqhiTf-om2caux0wU6Tvw387vRg-TfiP9_Tlz-K1eEuZ2UB3frz9vHy3zQJoz4uXLtrP3b0xdahPbxWPTzMHMZAgp1v4uHL2LIyygyerfg16JaU&refId=e2667841-283d-4c9a-ba7b-afaa25c979d8&trk=d_flagship3_search_srp_jobs   \n",
       "73                                                                                                                                                                                                                                                                                                                                                                                                                                                                                                             https://www.linkedin.com/jobs/view/1806883960/?eBP=JOB_SEARCH_ORGANIC&refId=7f1de094-9b9d-47cf-a3c4-7257d67a64fb&trk=d_flagship3_search_srp_jobs   \n",
       "\n",
       "    appeal      application  \n",
       "36     314  not yet applied  \n",
       "95     294  not yet applied  \n",
       "20     240  not yet applied  \n",
       "64     240  not yet applied  \n",
       "73     240  not yet applied  "
      ]
     },
     "execution_count": 23,
     "metadata": {},
     "output_type": "execute_result"
    }
   ],
   "source": [
    "# show top 5 jobs\n",
    "jobs.sort_values(['application', 'appeal'], ascending=[True, False] ).head()"
   ]
  },
  {
   "cell_type": "code",
   "execution_count": 24,
   "metadata": {},
   "outputs": [],
   "source": [
    "# count the times each keyword repeats in each job post\n",
    "\n",
    "d = []\n",
    "for i in range(len(keywords_lol)):\n",
    "    cnt = Counter()\n",
    "    for word in keywords_lol[i]:\n",
    "        cnt[word] += 1\n",
    "    d.append(cnt)\n",
    "    #print(i,cnt)"
   ]
  },
  {
   "cell_type": "markdown",
   "metadata": {},
   "source": [
    "## Refresh point"
   ]
  },
  {
   "cell_type": "code",
   "execution_count": 25,
   "metadata": {},
   "outputs": [],
   "source": [
    "# As you check the jobs, mark them as applied to ('yes') or do not qualify for ('x')\n",
    "\n",
    "jobs.loc[[138,125,107,131,112,104,105,40,94,93,71,90,0,3,18,20,57,60,64,65,73,95],'application'] = 'yes'\n",
    "jobs.loc[[137,135,103,106,133,122,118,121,77,70,62,14,6,88,84,72,74,89,87,91,82,78,83,1,2,11,12,13,15,19,21,24,26,27,28,31,36,38,48,61,66,67,68,69],'application'] = 'x'"
   ]
  },
  {
   "cell_type": "code",
   "execution_count": 26,
   "metadata": {},
   "outputs": [
    {
     "data": {
      "text/html": [
       "<div>\n",
       "<style scoped>\n",
       "    .dataframe tbody tr th:only-of-type {\n",
       "        vertical-align: middle;\n",
       "    }\n",
       "\n",
       "    .dataframe tbody tr th {\n",
       "        vertical-align: top;\n",
       "    }\n",
       "\n",
       "    .dataframe thead th {\n",
       "        text-align: right;\n",
       "    }\n",
       "</style>\n",
       "<table border=\"1\" class=\"dataframe\">\n",
       "  <thead>\n",
       "    <tr style=\"text-align: right;\">\n",
       "      <th></th>\n",
       "      <th>link</th>\n",
       "      <th>appeal</th>\n",
       "      <th>application</th>\n",
       "    </tr>\n",
       "  </thead>\n",
       "  <tbody>\n",
       "    <tr>\n",
       "      <th>111</th>\n",
       "      <td>https://www.linkedin.com/jobs/view/1821758436/?eBP=CwEAAAFxaj5Vl16b6NlFY3GmNbHoLfLZ5pjTESd-Pykt9idm7UcHWxQk7sxpvqVFT6V0poC-GIBJG0qKC6H0uGTW0oT8nM5gQpCZ8V4yztRqoHL1E2VIe7PaIaIsj4I9GzV3BJRcGN_bG_VDoPfL45mXd_InsSMaF5Zd6ZYq7YXz4Oj1_OA1k_btWOf4jogQkIevRKARG7CsTzjljYkoKHZ80bNgRTO2xeID7sQ0th0XWZ2vrcNNU_jxLF2LRlbQqdekZRNJadRLLTU1QBjPwqZlEDEKmm7GnMxIe6UH2aUqMbnQDa_4BhkmDkNySSVhdHuA0w8HS8MZPM0jwJ80JvXTFaUMeTAuW9QNPlqu28VtpQ&amp;recommendedFlavor=SCHOOL_RECRUIT&amp;refId=82059a33-f7c9-4744-9848-d4c844343387&amp;trk=d_flagship3_search_srp_jobs</td>\n",
       "      <td>122</td>\n",
       "      <td>not yet applied</td>\n",
       "    </tr>\n",
       "  </tbody>\n",
       "</table>\n",
       "</div>"
      ],
      "text/plain": [
       "                                                                                                                                                                                                                                                                                                                                                                                                                                                                                                                                              link  \\\n",
       "111  https://www.linkedin.com/jobs/view/1821758436/?eBP=CwEAAAFxaj5Vl16b6NlFY3GmNbHoLfLZ5pjTESd-Pykt9idm7UcHWxQk7sxpvqVFT6V0poC-GIBJG0qKC6H0uGTW0oT8nM5gQpCZ8V4yztRqoHL1E2VIe7PaIaIsj4I9GzV3BJRcGN_bG_VDoPfL45mXd_InsSMaF5Zd6ZYq7YXz4Oj1_OA1k_btWOf4jogQkIevRKARG7CsTzjljYkoKHZ80bNgRTO2xeID7sQ0th0XWZ2vrcNNU_jxLF2LRlbQqdekZRNJadRLLTU1QBjPwqZlEDEKmm7GnMxIe6UH2aUqMbnQDa_4BhkmDkNySSVhdHuA0w8HS8MZPM0jwJ80JvXTFaUMeTAuW9QNPlqu28VtpQ&recommendedFlavor=SCHOOL_RECRUIT&refId=82059a33-f7c9-4744-9848-d4c844343387&trk=d_flagship3_search_srp_jobs   \n",
       "\n",
       "     appeal      application  \n",
       "111     122  not yet applied  "
      ]
     },
     "execution_count": 26,
     "metadata": {},
     "output_type": "execute_result"
    }
   ],
   "source": [
    "# sort job by application status, then by score\n",
    "top_job = jobs.sort_values(['application', 'appeal'], ascending=[True, False]).head(1)\n",
    "top_job"
   ]
  },
  {
   "cell_type": "markdown",
   "metadata": {},
   "source": [
    "## Improvement points:\n",
    "- show a more user friendly listing (maybe as it shows in the website)\n",
    "- extract the parts of the text where the words experience, require, etc. is mentioned\n",
    "- extract the city and job title (all this in a DF, maybe)"
   ]
  },
  {
   "cell_type": "code",
   "execution_count": 27,
   "metadata": {},
   "outputs": [
    {
     "data": {
      "text/plain": [
       "'Does working for a fast paced, growing company that is making a difference in our environment excite you? Do you have a passion for making our environment better for this generation and the ones that follow? If you’re excited about career growth, group volunteering, and the occasional ping pong after hours, then this is the job for you. Let’s make a difference together. Join our team! SummaryNexamp is seeking an Analyst to join the Capital Markets team in its Boston office. This individual will have the opportunity for future growth and development amongst a group of high achieving professionals. We are seeking a driven, dedicated, and enthusiastic professional to join our dynamic team.ResponsibilitiesThis position will report directly to an Associate of the Capital Markets team and will be responsible for the execution and performance of capital markets activities, including, but not limited to: Enhance corporate and project-level financial models Assist project acquisition, development and asset management teams with financial models including new market or new product offerings Work on deal teams related to Channel Development acquisitions Interact with Nexamp’s central data systems and software development team to create reusable interfaces Consolidate and analyze financial data (budgets, cash flow forecasts, etc) Prepare qualitative memos that will be presented to senior management for investment decisions Support senior management and FP&A Director with financial planning and analysis Assist with corporate and project-level debt and equity financings as needed QualificationsIdeal candidate must be enthusiastic, self-motivated, results-oriented, and operate well in a collaborative, team-oriented environment. The candidate should be prepared for increased responsibility in a rapidly growing company. Bachelor’s degree 0 - 2 years of investment banking, valuation, accounting, computer science, applied mathematics, quantitative analytics experience or relevant coursework preferred Excellent financial modeling, financial statement analysis, and accounting skills / knowledge preferred Ability to communicate effectively with the Capital Markets team, executive management and all departments across the organization Strong proficiency in MS Office software (Word, PowerPoint, Excel) Proficient in quantitative analytics and experience with Python, SQL, C#, Java, .NET, and VBA is preferred, but not required Proficient in quantitative analytics and experience with Python, SQL, VBA integration, and numerical analysis packages is preferred, but not required Strong interest in automated analytics Proven analytical ability and attention to detail Superior organizational and time management skills, and the ability to efficiently manage multiple projects in a fast-paced work environment Excellent written and verbal communication skills Experience in renewables, energy or infrastructure preferred, but not required Perks & CompensationNot only will you get to work with a group of innovative, dedicated, and motivated peers, you will also have access to all the benefits that Nexamp Offers! This includes: our competitive compensation package; a 401 (k) employer-match; health, dental, & vision insurance with company contribution; Flexible Paid Time Off and Company Holidays; Commuter Benefits and Cell Phone Reimbursement; as well as a Fun, Collaborative, Downtown Office Environment! We provide healthy snacks, coffee, in-office yoga sessions, volunteer opportunities, company outings, and more!NEXAMP VALUES AND MISSIONBuilding the future of energy so it is clean, simple and accessibleNexamp is building the energy infrastructure of tomorrow and reinventing the way people interact with the electricity that powers their lives. By deploying a distributed network of locally sourced clean energy, we seek to reduce the negative effects of climate change. Our team’s diverse experience drives innovation from the ground up and with a singular passion: to deliver an accessible and sustainable energy future for all.'"
      ]
     },
     "execution_count": 27,
     "metadata": {},
     "output_type": "execute_result"
    }
   ],
   "source": [
    "# prior to applying, search the JD for required skills, experience, etc. # CMD + F\n",
    "jd[top_job.index[0]].text"
   ]
  },
  {
   "cell_type": "code",
   "execution_count": 28,
   "metadata": {
    "scrolled": false
   },
   "outputs": [
    {
     "data": {
      "text/html": [
       "<div>\n",
       "<style scoped>\n",
       "    .dataframe tbody tr th:only-of-type {\n",
       "        vertical-align: middle;\n",
       "    }\n",
       "\n",
       "    .dataframe tbody tr th {\n",
       "        vertical-align: top;\n",
       "    }\n",
       "\n",
       "    .dataframe thead th {\n",
       "        text-align: right;\n",
       "    }\n",
       "</style>\n",
       "<table border=\"1\" class=\"dataframe\">\n",
       "  <thead>\n",
       "    <tr style=\"text-align: right;\">\n",
       "      <th></th>\n",
       "      <th>0</th>\n",
       "    </tr>\n",
       "  </thead>\n",
       "  <tbody>\n",
       "    <tr>\n",
       "      <th>financial</th>\n",
       "      <td>6</td>\n",
       "    </tr>\n",
       "    <tr>\n",
       "      <th>analytics</th>\n",
       "      <td>4</td>\n",
       "    </tr>\n",
       "    <tr>\n",
       "      <th>analysis</th>\n",
       "      <td>3</td>\n",
       "    </tr>\n",
       "    <tr>\n",
       "      <th>models</th>\n",
       "      <td>2</td>\n",
       "    </tr>\n",
       "    <tr>\n",
       "      <th>data</th>\n",
       "      <td>2</td>\n",
       "    </tr>\n",
       "    <tr>\n",
       "      <th>python</th>\n",
       "      <td>2</td>\n",
       "    </tr>\n",
       "    <tr>\n",
       "      <th>sql</th>\n",
       "      <td>2</td>\n",
       "    </tr>\n",
       "    <tr>\n",
       "      <th>boston</th>\n",
       "      <td>1</td>\n",
       "    </tr>\n",
       "    <tr>\n",
       "      <th>analyze</th>\n",
       "      <td>1</td>\n",
       "    </tr>\n",
       "    <tr>\n",
       "      <th>decisions</th>\n",
       "      <td>1</td>\n",
       "    </tr>\n",
       "    <tr>\n",
       "      <th>fp</th>\n",
       "      <td>1</td>\n",
       "    </tr>\n",
       "    <tr>\n",
       "      <th>planning</th>\n",
       "      <td>1</td>\n",
       "    </tr>\n",
       "    <tr>\n",
       "      <th>valuation</th>\n",
       "      <td>1</td>\n",
       "    </tr>\n",
       "    <tr>\n",
       "      <th>modeling</th>\n",
       "      <td>1</td>\n",
       "    </tr>\n",
       "    <tr>\n",
       "      <th>excel</th>\n",
       "      <td>1</td>\n",
       "    </tr>\n",
       "    <tr>\n",
       "      <th>analytical</th>\n",
       "      <td>1</td>\n",
       "    </tr>\n",
       "  </tbody>\n",
       "</table>\n",
       "</div>"
      ],
      "text/plain": [
       "            0\n",
       "financial   6\n",
       "analytics   4\n",
       "analysis    3\n",
       "models      2\n",
       "data        2\n",
       "python      2\n",
       "sql         2\n",
       "boston      1\n",
       "analyze     1\n",
       "decisions   1\n",
       "fp          1\n",
       "planning    1\n",
       "valuation   1\n",
       "modeling    1\n",
       "excel       1\n",
       "analytical  1"
      ]
     },
     "execution_count": 28,
     "metadata": {},
     "output_type": "execute_result"
    }
   ],
   "source": [
    "# check for keywords in top job ... to customize R/CL\n",
    "pd.DataFrame.from_dict(d[top_job.index[0]], orient='index').sort_values(0, ascending=False)"
   ]
  },
  {
   "cell_type": "markdown",
   "metadata": {},
   "source": [
    "### back to refresh point"
   ]
  },
  {
   "cell_type": "code",
   "execution_count": null,
   "metadata": {},
   "outputs": [],
   "source": []
  }
 ],
 "metadata": {
  "kernelspec": {
   "display_name": "Python 3",
   "language": "python",
   "name": "python3"
  },
  "language_info": {
   "codemirror_mode": {
    "name": "ipython",
    "version": 3
   },
   "file_extension": ".py",
   "mimetype": "text/x-python",
   "name": "python",
   "nbconvert_exporter": "python",
   "pygments_lexer": "ipython3",
   "version": "3.7.7"
  }
 },
 "nbformat": 4,
 "nbformat_minor": 2
}
