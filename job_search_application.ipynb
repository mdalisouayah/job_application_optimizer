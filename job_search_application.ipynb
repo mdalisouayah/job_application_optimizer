{
 "cells": [
  {
   "cell_type": "markdown",
   "metadata": {},
   "source": [
    "# Job search and application"
   ]
  },
  {
   "cell_type": "code",
   "execution_count": 1,
   "metadata": {},
   "outputs": [],
   "source": [
    "# import libraries\n",
    "\n",
    "import numpy as np\n",
    "import pandas as pd\n",
    "import regex as re # to clean text\n",
    "import os #why?\n",
    "import time # to save csv to today's date\n",
    "import requests\n",
    "from bs4 import BeautifulSoup #to get data out of html or xml\n",
    "from collections import Counter # to count keyword appearance"
   ]
  },
  {
   "cell_type": "code",
   "execution_count": 2,
   "metadata": {
    "scrolled": true
   },
   "outputs": [],
   "source": [
    "# read the text file\n",
    "\n",
    "with open('./urls.txt',\"r\") as urls:\n",
    "    urls = urls.readlines() "
   ]
  },
  {
   "cell_type": "code",
   "execution_count": 3,
   "metadata": {},
   "outputs": [],
   "source": [
    "#agent to interact with web content\n",
    "\n",
    "hdr = {'User-Agent': 'Mozilla/5.0'} "
   ]
  },
  {
   "cell_type": "code",
   "execution_count": 4,
   "metadata": {
    "scrolled": true
   },
   "outputs": [],
   "source": [
    "# check the request is successful\n",
    "\n",
    "res = []\n",
    "for url in urls:\n",
    "    res.append(requests.get(url,headers=hdr))\n",
    "\n",
    "for i in range(len(res)):\n",
    "    if(res[i].status_code) != 200:\n",
    "        print(i,res[i].status_code)"
   ]
  },
  {
   "cell_type": "code",
   "execution_count": 5,
   "metadata": {},
   "outputs": [],
   "source": [
    "# get the content of each url\n",
    "\n",
    "soup = []\n",
    "for i in range(len(res)):\n",
    "    soup.append(BeautifulSoup(res[i].content, 'lxml'))\n",
    "    # soup is a list of beautifulsoup objects"
   ]
  },
  {
   "cell_type": "code",
   "execution_count": 6,
   "metadata": {},
   "outputs": [],
   "source": [
    "# append each job description to a list\n",
    "\n",
    "jd = []\n",
    "for i in range(len(soup)):\n",
    "    \n",
    "# VentureFizz\n",
    "    if soup[i].find('div',{'class': 'views-field views-field-field-job-description'}):\n",
    "        jd.append(soup[i].find('div',{'class': 'views-field views-field-field-job-description'}))\n",
    "    \n",
    "# Linkedin\n",
    "    elif soup[i].find('div',{'class': 'description__text description__text--rich'}):\n",
    "        jd.append(soup[i].find('div',{'class': 'description__text description__text--rich'}))\n",
    "    \n",
    "# indeed.com\n",
    "    elif soup[i].find('div',{'class': 'jobsearch-JobComponent icl-u-xs-mt--sm'}):\n",
    "        jd.append(soup[i].find('div',{'class': 'jobsearch-JobComponent icl-u-xs-mt--sm'}))\n",
    "\n",
    "# Glassdoor?\n",
    "    elif soup[i].find(name='div', attrs={'id':'JobDescriptionContainer','class': 'gdGrid tabSection p-std mt-0'}):\n",
    "        jd.append(soup[i].find(name='div', attrs={'id':'JobDescriptionContainer','class': 'gdGrid tabSection p-std mt-0'})) #glassdoor\n",
    "\n",
    "# dice.com \n",
    "    else: \n",
    "        jd.append(soup[i].find(name='div', attrs={'id':'jobdescSec','class': 'highlight-black'}))"
   ]
  },
  {
   "cell_type": "markdown",
   "metadata": {},
   "source": [
    "## Improvement point: \n",
    "- skip problematic jobs/lines"
   ]
  },
  {
   "cell_type": "code",
   "execution_count": 7,
   "metadata": {
    "scrolled": true
   },
   "outputs": [
    {
     "name": "stdout",
     "output_type": "stream",
     "text": [
      "error on 29\n",
      "error on 44\n"
     ]
    }
   ],
   "source": [
    "# split the job descriptions into a list of words\n",
    "# if the job description can't be read(empty) let me know which post ...\n",
    "# ... it has probably expired and needs to be ommitted\n",
    "\n",
    "job_desc = [] # list of all words in the job desc\n",
    "for i in range(len(jd)):\n",
    "    try:\n",
    "        job_desc.append(re.findall(r'[A-z]+', jd[i].text))\n",
    "    except AttributeError:\n",
    "        print('error on {}'.format (i))\n",
    "        job_desc.append(re.findall(r'[A-z]+', jd[i-1].text)) # temp fix: if there is an error append \n",
    "                                                             # the prior cleared post\n",
    "                                                            # code will break if two consecutive posts are problematic\n"
   ]
  },
  {
   "cell_type": "code",
   "execution_count": 8,
   "metadata": {},
   "outputs": [],
   "source": [
    "# small cap all keywords to be matched with the dictionary of search words\n",
    "\n",
    "for i in range(len(job_desc)):\n",
    "    job_desc[i] = [x.lower() for x in job_desc[i]]"
   ]
  },
  {
   "cell_type": "code",
   "execution_count": 9,
   "metadata": {},
   "outputs": [],
   "source": [
    "# have the dictionary of key search words ready\n",
    "\n",
    "with open('./searchwords.txt',\"r\") as keywords:\n",
    "    keywords = keywords.readlines() # a list of key words with line breaks\n",
    "    keywords = [x.lower().replace('\\n',\"\") for x in keywords]\n",
    "    keywords = [x.lower().replace(' ',\"\") for x in keywords]\n"
   ]
  },
  {
   "cell_type": "code",
   "execution_count": 10,
   "metadata": {},
   "outputs": [],
   "source": [
    "# match the job description to the dictionary of keywords\n",
    "\n",
    "keywords_lol = [] # list of (lists of) matching keywords of all jobs\n",
    "\n",
    "for i in range(len(job_desc)):\n",
    "    job_desc_keywords = [] # list of matching keywords for each job\n",
    "    for word in job_desc[i]:\n",
    "        if word in keywords:\n",
    "            job_desc_keywords.append(word)\n",
    "    keywords_lol.append(job_desc_keywords)"
   ]
  },
  {
   "cell_type": "code",
   "execution_count": 11,
   "metadata": {},
   "outputs": [],
   "source": [
    "#assign a weight for each keyword\n",
    "\n",
    "weights = {'cfa':10,'arabic':10,'french':10,'returnship':10,'re-ignite':10,'relaunch':10, \n",
    "           'mba':5,'python':5,\n",
    "           'analytics':4,'analysis':4,'analyze':4,'analyzes':4,'analytical':4,'analyzing':4,\n",
    "           'data':3,'dataset':3,'datasets':3,'finance':3,'financial':3,'financials':3,\n",
    "           'tableau':2,'sql':2}"
   ]
  },
  {
   "cell_type": "code",
   "execution_count": 12,
   "metadata": {},
   "outputs": [],
   "source": [
    "# replace each keyword by its weight equivalent\n",
    "\n",
    "scores_lol = [] # list of (lists of) job scores\n",
    "\n",
    "for i in range(len(keywords_lol)):\n",
    "    job_score = [] # score of each job\n",
    "    for word in keywords_lol[i]:\n",
    "        if word in weights.keys():\n",
    "            job_score.append(weights[word])\n",
    "        else:\n",
    "            job_score.append(1)\n",
    "    scores_lol.append(sum(job_score))"
   ]
  },
  {
   "cell_type": "code",
   "execution_count": 13,
   "metadata": {},
   "outputs": [],
   "source": [
    "# create the dataframe\n",
    "jobs = pd.DataFrame(columns=['link', 'appeal'])"
   ]
  },
  {
   "cell_type": "code",
   "execution_count": 14,
   "metadata": {},
   "outputs": [],
   "source": [
    "# clean up the urls\n",
    "urls = [x.replace('\\n',\"\") for x in urls]"
   ]
  },
  {
   "cell_type": "code",
   "execution_count": 15,
   "metadata": {
    "scrolled": true
   },
   "outputs": [],
   "source": [
    "# fill in the data frame\n",
    "jobs = jobs.assign(appeal=scores_lol, link = urls).fillna(0)"
   ]
  },
  {
   "cell_type": "code",
   "execution_count": 16,
   "metadata": {},
   "outputs": [],
   "source": [
    "# drop duplicate URLs\n",
    "jobs = jobs.drop_duplicates(subset=['link','appeal'])"
   ]
  },
  {
   "cell_type": "code",
   "execution_count": 17,
   "metadata": {},
   "outputs": [],
   "source": [
    "# create another column and mark all jobs as not applied to\n",
    "jobs['application'] = 'not yet applied'"
   ]
  },
  {
   "cell_type": "code",
   "execution_count": 18,
   "metadata": {
    "scrolled": true
   },
   "outputs": [],
   "source": [
    "# do not abridge the urls\n",
    "pd.set_option('display.max_colwidth', None)"
   ]
  },
  {
   "cell_type": "code",
   "execution_count": 19,
   "metadata": {},
   "outputs": [
    {
     "data": {
      "text/html": [
       "<div>\n",
       "<style scoped>\n",
       "    .dataframe tbody tr th:only-of-type {\n",
       "        vertical-align: middle;\n",
       "    }\n",
       "\n",
       "    .dataframe tbody tr th {\n",
       "        vertical-align: top;\n",
       "    }\n",
       "\n",
       "    .dataframe thead th {\n",
       "        text-align: right;\n",
       "    }\n",
       "</style>\n",
       "<table border=\"1\" class=\"dataframe\">\n",
       "  <thead>\n",
       "    <tr style=\"text-align: right;\">\n",
       "      <th></th>\n",
       "      <th>link</th>\n",
       "      <th>appeal</th>\n",
       "      <th>application</th>\n",
       "    </tr>\n",
       "  </thead>\n",
       "  <tbody>\n",
       "    <tr>\n",
       "      <th>0</th>\n",
       "      <td>https://www.indeed.com/viewjob?jk=6c659eccabf4a45b&amp;q=Python+Analytics+Data+Finance+MBA+excel+(analysis+or+Analyst+or+Analyses+or+Analytical+or+Analyzing+or+Dataset+or+Datasets+or+Financial+or+Financials+or+Decisions+or+Insight+or+Insights+or+Analytics+or+Analysis+or+Analyst+or+Analyses+or+Analytical+or+Anal&amp;l=Brookline,+MA&amp;tk=1e49ospml32vi802&amp;from=ja&amp;alid=5dcf23fc803d2451183c3f08&amp;utm_campaign=job_alerts&amp;utm_medium=email&amp;utm_source=jobseeker_emails&amp;rgtk=1e49ospml32vi802</td>\n",
       "      <td>142</td>\n",
       "      <td>not yet applied</td>\n",
       "    </tr>\n",
       "    <tr>\n",
       "      <th>1</th>\n",
       "      <td>https://www.indeed.com/viewjob?jk=011b15460b8771f7&amp;q=Python+Analytics+Data+Finance+MBA+excel+(analysis+or+Analyst+or+Analyses+or+Analytical+or+Analyzing+or+Dataset+or+Datasets+or+Financial+or+Financials+or+Decisions+or+Insight+or+Insights+or+Analytics+or+Analysis+or+Analyst+or+Analyses+or+Analytical+or+Anal&amp;l=United+States&amp;tk=1e3npd4df36v0800&amp;from=ja&amp;alid=5dcf2719803d2451183c4152&amp;utm_campaign=job_alerts&amp;utm_medium=email&amp;utm_source=jobseeker_emails&amp;rgtk=1e3npd4df36v0800</td>\n",
       "      <td>88</td>\n",
       "      <td>not yet applied</td>\n",
       "    </tr>\n",
       "    <tr>\n",
       "      <th>2</th>\n",
       "      <td>https://www.indeed.com/viewjob?jk=f83badafea23ce6c&amp;q=Python+Analytics+Data+Finance+MBA+excel+(analysis+or+Analyst+or+Analyses+or+Analytical+or+Analyzing+or+Dataset+or+Datasets+or+Financial+or+Financials+or+Decisions+or+Insight+or+Insights+or+Analytics+or+Analysis+or+Analyst+or+Analyses+or+Analytical+or+Anal&amp;l=United+States&amp;tk=1e4rrvhv02ta4800&amp;from=ja&amp;alid=5dcf2719803d2451183c4152&amp;utm_campaign=job_alerts&amp;utm_medium=email&amp;utm_source=jobseeker_emails&amp;rgtk=1e4rrvhv02ta4800</td>\n",
       "      <td>120</td>\n",
       "      <td>not yet applied</td>\n",
       "    </tr>\n",
       "    <tr>\n",
       "      <th>3</th>\n",
       "      <td>https://www.indeed.com/viewjob?jk=07f9fbc2899778d1&amp;q=python+analytics+data+finance+SQL+(analysis+or+analyze+or+analyses+or+analytical+or+analyzing+or+dataset+or+datasets+or+financial+or+financials+or+decisions+or+insight+or+insights+or+analytics+or+analysis+or+analyze+or+analyses+or+analytical+or+analyzing+&amp;l=Brookline&amp;tk=1e4rs41pi381h801&amp;from=ja&amp;advn=1343250976351098&amp;adid=315897298&amp;sjdu=i6xVERweJM_pVUvgf-MzuVJvpP-MaR_hWGGPPJrzQ5gblBxFjctZ0k8ChKLFXuLpEeQtSDbhkItY20XhSzlNdtEibdyPxFKZ-0PGAEnx3WY&amp;acatk=1e4sf7dpahdmg800&amp;pub=e4ea14867e765046&amp;utm_campaign=job_alerts&amp;utm_medium=email&amp;utm_source=jobseeker_emails</td>\n",
       "      <td>134</td>\n",
       "      <td>not yet applied</td>\n",
       "    </tr>\n",
       "    <tr>\n",
       "      <th>6</th>\n",
       "      <td>https://www.linkedin.com/jobs/view/1749285376/?eBP=NotAvailableFromVoyagerAPI&amp;refId=49160274-dcd6-4cfe-bc95-303d1c4fee85&amp;trk=d_flagship3_search_srp_jobs</td>\n",
       "      <td>67</td>\n",
       "      <td>not yet applied</td>\n",
       "    </tr>\n",
       "  </tbody>\n",
       "</table>\n",
       "</div>"
      ],
      "text/plain": [
       "                                                                                                                                                                                                                                                                                                                                                                                                                                                                                                                                                                                                                                  link  \\\n",
       "0                                                                                                                                            https://www.indeed.com/viewjob?jk=6c659eccabf4a45b&q=Python+Analytics+Data+Finance+MBA+excel+(analysis+or+Analyst+or+Analyses+or+Analytical+or+Analyzing+or+Dataset+or+Datasets+or+Financial+or+Financials+or+Decisions+or+Insight+or+Insights+or+Analytics+or+Analysis+or+Analyst+or+Analyses+or+Analytical+or+Anal&l=Brookline,+MA&tk=1e49ospml32vi802&from=ja&alid=5dcf23fc803d2451183c3f08&utm_campaign=job_alerts&utm_medium=email&utm_source=jobseeker_emails&rgtk=1e49ospml32vi802   \n",
       "1                                                                                                                                            https://www.indeed.com/viewjob?jk=011b15460b8771f7&q=Python+Analytics+Data+Finance+MBA+excel+(analysis+or+Analyst+or+Analyses+or+Analytical+or+Analyzing+or+Dataset+or+Datasets+or+Financial+or+Financials+or+Decisions+or+Insight+or+Insights+or+Analytics+or+Analysis+or+Analyst+or+Analyses+or+Analytical+or+Anal&l=United+States&tk=1e3npd4df36v0800&from=ja&alid=5dcf2719803d2451183c4152&utm_campaign=job_alerts&utm_medium=email&utm_source=jobseeker_emails&rgtk=1e3npd4df36v0800   \n",
       "2                                                                                                                                            https://www.indeed.com/viewjob?jk=f83badafea23ce6c&q=Python+Analytics+Data+Finance+MBA+excel+(analysis+or+Analyst+or+Analyses+or+Analytical+or+Analyzing+or+Dataset+or+Datasets+or+Financial+or+Financials+or+Decisions+or+Insight+or+Insights+or+Analytics+or+Analysis+or+Analyst+or+Analyses+or+Analytical+or+Anal&l=United+States&tk=1e4rrvhv02ta4800&from=ja&alid=5dcf2719803d2451183c4152&utm_campaign=job_alerts&utm_medium=email&utm_source=jobseeker_emails&rgtk=1e4rrvhv02ta4800   \n",
       "3  https://www.indeed.com/viewjob?jk=07f9fbc2899778d1&q=python+analytics+data+finance+SQL+(analysis+or+analyze+or+analyses+or+analytical+or+analyzing+or+dataset+or+datasets+or+financial+or+financials+or+decisions+or+insight+or+insights+or+analytics+or+analysis+or+analyze+or+analyses+or+analytical+or+analyzing+&l=Brookline&tk=1e4rs41pi381h801&from=ja&advn=1343250976351098&adid=315897298&sjdu=i6xVERweJM_pVUvgf-MzuVJvpP-MaR_hWGGPPJrzQ5gblBxFjctZ0k8ChKLFXuLpEeQtSDbhkItY20XhSzlNdtEibdyPxFKZ-0PGAEnx3WY&acatk=1e4sf7dpahdmg800&pub=e4ea14867e765046&utm_campaign=job_alerts&utm_medium=email&utm_source=jobseeker_emails   \n",
       "6                                                                                                                                                                                                                                                                                                                                                                                                                                                                             https://www.linkedin.com/jobs/view/1749285376/?eBP=NotAvailableFromVoyagerAPI&refId=49160274-dcd6-4cfe-bc95-303d1c4fee85&trk=d_flagship3_search_srp_jobs   \n",
       "\n",
       "   appeal      application  \n",
       "0     142  not yet applied  \n",
       "1      88  not yet applied  \n",
       "2     120  not yet applied  \n",
       "3     134  not yet applied  \n",
       "6      67  not yet applied  "
      ]
     },
     "execution_count": 19,
     "metadata": {},
     "output_type": "execute_result"
    }
   ],
   "source": [
    "# check the DF\n",
    "jobs.head()"
   ]
  },
  {
   "cell_type": "code",
   "execution_count": 20,
   "metadata": {},
   "outputs": [],
   "source": [
    "# save df to a csv file\n",
    "jobs.to_csv('./jobs_{}.csv'.format(time.strftime(\"%Y%m%d\")))"
   ]
  },
  {
   "cell_type": "code",
   "execution_count": 21,
   "metadata": {},
   "outputs": [
    {
     "data": {
      "text/html": [
       "<div>\n",
       "<style scoped>\n",
       "    .dataframe tbody tr th:only-of-type {\n",
       "        vertical-align: middle;\n",
       "    }\n",
       "\n",
       "    .dataframe tbody tr th {\n",
       "        vertical-align: top;\n",
       "    }\n",
       "\n",
       "    .dataframe thead th {\n",
       "        text-align: right;\n",
       "    }\n",
       "</style>\n",
       "<table border=\"1\" class=\"dataframe\">\n",
       "  <thead>\n",
       "    <tr style=\"text-align: right;\">\n",
       "      <th></th>\n",
       "      <th>link</th>\n",
       "      <th>appeal</th>\n",
       "      <th>application</th>\n",
       "    </tr>\n",
       "  </thead>\n",
       "  <tbody>\n",
       "    <tr>\n",
       "      <th>95</th>\n",
       "      <td>https://www.indeed.com/viewjob?jk=f51398bd7dd0474c&amp;q=Python+Analytics+Data+Finance+MBA+excel+(analysis+or+Analyst+or+Analyses+or+Analytical+or+Analyzing+or+Dataset+or+Datasets+or+Financial+or+Financials+or+Decisions+or+Insight+or+Insights+or+Analytics+or+Analysis+or+Analyst+or+Analyses+or+Analytical+or+Anal&amp;l=United+States&amp;tk=1e5dr7617283p806&amp;from=ja&amp;advn=782336216336969&amp;adid=329327108&amp;sjdu=7BeRdT5uW8zd9J94pO4lsGI0Ja_kBs24iFGcI7wf15q550Mg1xAZesiZ5AabnRzOHq-Q0lbAQs6iicjzkHTf5wfanGPXGgjv-Gh8FMmu3qcMJJq_WWRfP6XhTeSU8Q4g&amp;acatk=1e5h2dgsb4sv7800&amp;pub=e4ea14867e765046&amp;utm_campaign=job_alerts&amp;utm_medium=email&amp;utm_source=jobseeker_emails</td>\n",
       "      <td>243</td>\n",
       "      <td>not yet applied</td>\n",
       "    </tr>\n",
       "    <tr>\n",
       "      <th>20</th>\n",
       "      <td>https://www.linkedin.com/jobs/view/1806883960/?eBP=NotAvailableFromVoyagerAPI&amp;refId=8837b68a-ed40-4b8b-9ead-5c2b2596e8e0&amp;trk=d_flagship3_search_srp_jobs</td>\n",
       "      <td>199</td>\n",
       "      <td>not yet applied</td>\n",
       "    </tr>\n",
       "    <tr>\n",
       "      <th>64</th>\n",
       "      <td>https://www.linkedin.com/jobs/view/1806883960/?eBP=CwEAAAFxRS9HLsz6PcFWwrY6Soxli4AEf9V3sdQPqrDT2jSdQfMmSGpUI3ulV6E3awuBwPtDhB-YJyS3Zqz7uKw76z3qVRudYgVcSYOUrb68_os8q_D7T6zl7rT3n3E5Ckw0ZOIA9a0JV52MuSXGulsdByssu7-D3i2NvyE69qJdjjV34d4uxRvLWxkAmULvRqwMmfL3xPBGKvSzUVTNWRuzsyffElxaM1AY-wWfLXhdf4zoPyHI0EShRs1HuB0TXConUNSzRFzIKy9RjxpM_uIrglKT0tDcrh0YvqhiTf-om2caux0wU6Tvw387vRg-TfiP9_Tlz-K1eEuZ2UB3frz9vHy3zQJoz4uXLtrP3b0xdahPbxWPTzMHMZAgp1v4uHL2LIyygyerfg16JaU&amp;refId=e2667841-283d-4c9a-ba7b-afaa25c979d8&amp;trk=d_flagship3_search_srp_jobs</td>\n",
       "      <td>199</td>\n",
       "      <td>not yet applied</td>\n",
       "    </tr>\n",
       "    <tr>\n",
       "      <th>73</th>\n",
       "      <td>https://www.linkedin.com/jobs/view/1806883960/?eBP=JOB_SEARCH_ORGANIC&amp;refId=7f1de094-9b9d-47cf-a3c4-7257d67a64fb&amp;trk=d_flagship3_search_srp_jobs</td>\n",
       "      <td>199</td>\n",
       "      <td>not yet applied</td>\n",
       "    </tr>\n",
       "    <tr>\n",
       "      <th>121</th>\n",
       "      <td>https://www.linkedin.com/jobs/view/1816344884/?eBP=CwEAAAFxaj3yHqWAUthrwGOuj5ZVI4JmZphvXkACvOv4seSsPZPyLq6KivWmt2n8hwYGAUna0Iw4dzEKaOnMsSLiRouRnLcRAoEDilnzBCsrvYVKSGxz2xQh56hiwWYN1nM5BwSRc7MX54KiVnguCWMHBEAiZcZqF1kiBskoicH3VwJkxoUhaKBFG4kBAmu5Ov5Rzfq48qaxPUp9RqOgG0_SFK28qtBdrRYKkB3WySs8dZKtaik3wH2EYupTLdAK1vAggd8TV_5LTiC0J6AMd4iF_ZGCoh9nZqJr05ZgGpLBWfKEF3E-IprIqFDSBtJ87HhXk3njSA21PVwPo9twrYb5afkCcei2fGrYhSVaNH_ItA&amp;recommendedFlavor=COMPANY_RECRUIT&amp;refId=acf649c5-0435-4a4e-96dd-c6d5a84cfa94&amp;trk=d_flagship3_search_srp_jobs</td>\n",
       "      <td>194</td>\n",
       "      <td>not yet applied</td>\n",
       "    </tr>\n",
       "  </tbody>\n",
       "</table>\n",
       "</div>"
      ],
      "text/plain": [
       "                                                                                                                                                                                                                                                                                                                                                                                                                                                                                                                                                                                                                                                            link  \\\n",
       "95   https://www.indeed.com/viewjob?jk=f51398bd7dd0474c&q=Python+Analytics+Data+Finance+MBA+excel+(analysis+or+Analyst+or+Analyses+or+Analytical+or+Analyzing+or+Dataset+or+Datasets+or+Financial+or+Financials+or+Decisions+or+Insight+or+Insights+or+Analytics+or+Analysis+or+Analyst+or+Analyses+or+Analytical+or+Anal&l=United+States&tk=1e5dr7617283p806&from=ja&advn=782336216336969&adid=329327108&sjdu=7BeRdT5uW8zd9J94pO4lsGI0Ja_kBs24iFGcI7wf15q550Mg1xAZesiZ5AabnRzOHq-Q0lbAQs6iicjzkHTf5wfanGPXGgjv-Gh8FMmu3qcMJJq_WWRfP6XhTeSU8Q4g&acatk=1e5h2dgsb4sv7800&pub=e4ea14867e765046&utm_campaign=job_alerts&utm_medium=email&utm_source=jobseeker_emails   \n",
       "20                                                                                                                                                                                                                                                                                                                                                                                                                                                                                                      https://www.linkedin.com/jobs/view/1806883960/?eBP=NotAvailableFromVoyagerAPI&refId=8837b68a-ed40-4b8b-9ead-5c2b2596e8e0&trk=d_flagship3_search_srp_jobs   \n",
       "64                                                                                                             https://www.linkedin.com/jobs/view/1806883960/?eBP=CwEAAAFxRS9HLsz6PcFWwrY6Soxli4AEf9V3sdQPqrDT2jSdQfMmSGpUI3ulV6E3awuBwPtDhB-YJyS3Zqz7uKw76z3qVRudYgVcSYOUrb68_os8q_D7T6zl7rT3n3E5Ckw0ZOIA9a0JV52MuSXGulsdByssu7-D3i2NvyE69qJdjjV34d4uxRvLWxkAmULvRqwMmfL3xPBGKvSzUVTNWRuzsyffElxaM1AY-wWfLXhdf4zoPyHI0EShRs1HuB0TXConUNSzRFzIKy9RjxpM_uIrglKT0tDcrh0YvqhiTf-om2caux0wU6Tvw387vRg-TfiP9_Tlz-K1eEuZ2UB3frz9vHy3zQJoz4uXLtrP3b0xdahPbxWPTzMHMZAgp1v4uHL2LIyygyerfg16JaU&refId=e2667841-283d-4c9a-ba7b-afaa25c979d8&trk=d_flagship3_search_srp_jobs   \n",
       "73                                                                                                                                                                                                                                                                                                                                                                                                                                                                                                              https://www.linkedin.com/jobs/view/1806883960/?eBP=JOB_SEARCH_ORGANIC&refId=7f1de094-9b9d-47cf-a3c4-7257d67a64fb&trk=d_flagship3_search_srp_jobs   \n",
       "121                                                                                                               https://www.linkedin.com/jobs/view/1816344884/?eBP=CwEAAAFxaj3yHqWAUthrwGOuj5ZVI4JmZphvXkACvOv4seSsPZPyLq6KivWmt2n8hwYGAUna0Iw4dzEKaOnMsSLiRouRnLcRAoEDilnzBCsrvYVKSGxz2xQh56hiwWYN1nM5BwSRc7MX54KiVnguCWMHBEAiZcZqF1kiBskoicH3VwJkxoUhaKBFG4kBAmu5Ov5Rzfq48qaxPUp9RqOgG0_SFK28qtBdrRYKkB3WySs8dZKtaik3wH2EYupTLdAK1vAggd8TV_5LTiC0J6AMd4iF_ZGCoh9nZqJr05ZgGpLBWfKEF3E-IprIqFDSBtJ87HhXk3njSA21PVwPo9twrYb5afkCcei2fGrYhSVaNH_ItA&recommendedFlavor=COMPANY_RECRUIT&refId=acf649c5-0435-4a4e-96dd-c6d5a84cfa94&trk=d_flagship3_search_srp_jobs   \n",
       "\n",
       "     appeal      application  \n",
       "95      243  not yet applied  \n",
       "20      199  not yet applied  \n",
       "64      199  not yet applied  \n",
       "73      199  not yet applied  \n",
       "121     194  not yet applied  "
      ]
     },
     "execution_count": 21,
     "metadata": {},
     "output_type": "execute_result"
    }
   ],
   "source": [
    "# show top 5 jobs\n",
    "jobs.sort_values(['application', 'appeal'], ascending=[True, False] ).head()"
   ]
  },
  {
   "cell_type": "code",
   "execution_count": 22,
   "metadata": {},
   "outputs": [],
   "source": [
    "# count the times each keyword repeats in each job post\n",
    "\n",
    "d = []\n",
    "for i in range(len(keywords_lol)):\n",
    "    cnt = Counter()\n",
    "    for word in keywords_lol[i]:\n",
    "        cnt[word] += 1\n",
    "    d.append(cnt)\n",
    "    #print(i,cnt)"
   ]
  },
  {
   "cell_type": "markdown",
   "metadata": {},
   "source": [
    "## Refresh point"
   ]
  },
  {
   "cell_type": "code",
   "execution_count": 23,
   "metadata": {},
   "outputs": [],
   "source": [
    "# As you check the jobs, mark them as applied to or do not qualify for\n",
    "\n",
    "jobs.loc[[112,104,105,40,94,93,71,90,0,3,18,20,57,60,64,65,73,95],'application'] = 'applied'\n",
    "jobs.loc[[122,118,121,77,70,62,14,6,88,84,72,74,89,87,91,82,78,83,1,2,11,12,13,15,19,21,24,26,27,28,31,36,38,48,55,61,66,67,68,69],'application'] = 'do not qualify'"
   ]
  },
  {
   "cell_type": "code",
   "execution_count": 24,
   "metadata": {},
   "outputs": [
    {
     "data": {
      "text/html": [
       "<div>\n",
       "<style scoped>\n",
       "    .dataframe tbody tr th:only-of-type {\n",
       "        vertical-align: middle;\n",
       "    }\n",
       "\n",
       "    .dataframe tbody tr th {\n",
       "        vertical-align: top;\n",
       "    }\n",
       "\n",
       "    .dataframe thead th {\n",
       "        text-align: right;\n",
       "    }\n",
       "</style>\n",
       "<table border=\"1\" class=\"dataframe\">\n",
       "  <thead>\n",
       "    <tr style=\"text-align: right;\">\n",
       "      <th></th>\n",
       "      <th>link</th>\n",
       "      <th>appeal</th>\n",
       "      <th>application</th>\n",
       "    </tr>\n",
       "  </thead>\n",
       "  <tbody>\n",
       "    <tr>\n",
       "      <th>95</th>\n",
       "      <td>https://www.indeed.com/viewjob?jk=f51398bd7dd0474c&amp;q=Python+Analytics+Data+Finance+MBA+excel+(analysis+or+Analyst+or+Analyses+or+Analytical+or+Analyzing+or+Dataset+or+Datasets+or+Financial+or+Financials+or+Decisions+or+Insight+or+Insights+or+Analytics+or+Analysis+or+Analyst+or+Analyses+or+Analytical+or+Anal&amp;l=United+States&amp;tk=1e5dr7617283p806&amp;from=ja&amp;advn=782336216336969&amp;adid=329327108&amp;sjdu=7BeRdT5uW8zd9J94pO4lsGI0Ja_kBs24iFGcI7wf15q550Mg1xAZesiZ5AabnRzOHq-Q0lbAQs6iicjzkHTf5wfanGPXGgjv-Gh8FMmu3qcMJJq_WWRfP6XhTeSU8Q4g&amp;acatk=1e5h2dgsb4sv7800&amp;pub=e4ea14867e765046&amp;utm_campaign=job_alerts&amp;utm_medium=email&amp;utm_source=jobseeker_emails</td>\n",
       "      <td>243</td>\n",
       "      <td>applied</td>\n",
       "    </tr>\n",
       "  </tbody>\n",
       "</table>\n",
       "</div>"
      ],
      "text/plain": [
       "                                                                                                                                                                                                                                                                                                                                                                                                                                                                                                                                                                                                                                                           link  \\\n",
       "95  https://www.indeed.com/viewjob?jk=f51398bd7dd0474c&q=Python+Analytics+Data+Finance+MBA+excel+(analysis+or+Analyst+or+Analyses+or+Analytical+or+Analyzing+or+Dataset+or+Datasets+or+Financial+or+Financials+or+Decisions+or+Insight+or+Insights+or+Analytics+or+Analysis+or+Analyst+or+Analyses+or+Analytical+or+Anal&l=United+States&tk=1e5dr7617283p806&from=ja&advn=782336216336969&adid=329327108&sjdu=7BeRdT5uW8zd9J94pO4lsGI0Ja_kBs24iFGcI7wf15q550Mg1xAZesiZ5AabnRzOHq-Q0lbAQs6iicjzkHTf5wfanGPXGgjv-Gh8FMmu3qcMJJq_WWRfP6XhTeSU8Q4g&acatk=1e5h2dgsb4sv7800&pub=e4ea14867e765046&utm_campaign=job_alerts&utm_medium=email&utm_source=jobseeker_emails   \n",
       "\n",
       "    appeal application  \n",
       "95     243     applied  "
      ]
     },
     "execution_count": 24,
     "metadata": {},
     "output_type": "execute_result"
    }
   ],
   "source": [
    "# sort job by application status, then by score\n",
    "\n",
    "top_job = jobs.sort_values(['application', 'appeal'], ascending=[True, False]).head(1)\n",
    "top_job"
   ]
  },
  {
   "cell_type": "markdown",
   "metadata": {},
   "source": [
    "## Improvement points:\n",
    "- show a more user friendly listing (maybe as it shows in the website)\n",
    "- extract the parts of the text where the words experience, require, etc. is mentioned\n",
    "- extract the city and job title (all this in a DF, maybe)"
   ]
  },
  {
   "cell_type": "code",
   "execution_count": 25,
   "metadata": {},
   "outputs": [
    {
     "data": {
      "text/plain": [
       "\"This job has expired on IndeedReasons could include: the employer is not accepting applications, is not actively hiring, or is reviewing applicationsSr. Analyst, FP&ACox Media Group-Atlanta, GA\\n                try {\\n                    window.mosaic.onMosaicApiReady(function() {\\n                        var zoneId = 'aboveExtractedJobDescription';\\n                        var providers = window.mosaic.zonedProviders[zoneId];\\n\\n                        if (providers) {\\n                            providers.filter(function(p) { return window.mosaic.lazyFns[p]; }).forEach(function(p) {\\n                                return window.mosaic.api.loadProvider(p);\\n                            });\\n                        }\\n                    });\\n                 } catch (e) {};\\n                \\n                try {\\n                    window.mosaic.onMosaicApiReady(function() {\\n                        var zoneId = 'aboveFullJobDescription';\\n                        var providers = window.mosaic.zonedProviders[zoneId];\\n\\n                        if (providers) {\\n                            providers.filter(function(p) { return window.mosaic.lazyFns[p]; }).forEach(function(p) {\\n                                return window.mosaic.api.loadProvider(p);\\n                            });\\n                        }\\n                    });\\n                 } catch (e) {};\\n                POSITION SUMMARY\\nCox Media Group is seeking a Sr. Analyst, FP&A to join our storied, 122-year-old media organization, now backed by one of the world’s leading private equity firms in Apollo Global Management. We share a belief that local media is an essential contributor to a healthy and informed community, and together we’re poised to blaze a new trail, investing in growth to build the future of the industry around our dozens of beloved consumer brands including WSB-TV ABC Channel 2 and B98.5 FM.\\nThe Sr. Analyst will play a key role on our 8-person Financial Planning & Analysis (FP&A) team, offering analytical support and strategic thought partnership to senior leaders throughout the company while also managing the financial planning process for CMG’s 20 television markets, 11 radio markets, associated digital properties, and corporate functions.\\nIn addition, the Sr. Analyst will participate in business development activities such as valuation of new business opportunities and support for pre-merger diligence/post-merger integration, as required. He or she will help to assess the team’s existing tools and processes, make recommendations for improvement, and work with stakeholders including the CMG Business Intelligence and Enterprise Accounting teams to execute on selected initiatives.\\nAs an Apollo portfolio company, CMG is led by an executive team that places tremendous emphasis on driving value through data and analytics, offering high visibility and direct access to the C-suite and our private equity partners.\\nApplicants should have a bachelor’s degree in finance, economics, or another quantitative field with excellent academic record, plus 2-3 years excelling in a corporate finance, management consulting, investment banking, equity research, Big 4 public accounting, or other highly-demanding quantitative role.\\nWe are seeking a candidate with a high level of intellectual curiosity, outstanding work ethic, strong attention to detail, and a continuous improvement mindset. Someone who is proactive, organized, resourceful, and determined to succeed. He or she should be an expert in Microsoft Excel, knowledgeable in a variety of analytical tools and methods, and able to intuitively grasp complex business problems. Given that this role is heavily team-oriented with significant exposure to senior executives, a consistently positive attitude and excellent interpersonal skills, including written and oral communication skills, are a must.\\nPrior media experience is not required, however applicants must have a strong interest in media, finance, and analytics, along with the ability, desire, and drive to grow quickly and become an expert in the industry and function.\\nExposure to advanced analytics tools (e.g. SQL/relational databases, VBA, Python, Alteryx, Tableau Prep, R, SPSS, Stata), the latest BI/data visualization tools (e.g. Tableau, PowerBI, Qlik, DOMO), ERP/Planning systems (e.g. Oracle-Hyperion, SAP S/4HANA), and CRM systems (e.g. Salesforce) is a plus but not required, as are the CPA and/or CFA credentials.\\nPRIMARY RESPONSIBILITIES\\nAt the highest level, the Sr. Analyst will partner with senior leaders throughout the company to provide financial and analytical support, serve as a strategic thought partner, and ultimately leverage data to drive business results.\\nMore specifically, the Sr. Analyst will:\\nBecome an expert in media, finance, analytics, and CMG business units/corporate functions as assigned\\nAcquire and maintain a detailed understanding of data/metrics underlying company/industry financial performance\\nStay current on market conditions as well as industry/function news, trends, emerging technologies, etc.\\nDevelop a deep understanding of assigned business partners’ processes, systems, data sources, and analytical needs\\nLead assigned business partners in the monthly and annual financial planning processes\\nMonthly: Assess financial performance, including drivers of variance to budget/forecast, and update forecast\\nAnnually: Manage comprehensive planning effort to develop budget and update multi-year Long Range Plan (LRP)\\nDevelop effective KPIs and scheduled reporting to drive continuous operational improvement\\nWith assigned business partners, co-lead development of effective KPIs, maintaining alignment to drivers of success\\nCreate and maintain dashboards to communicate financial/operational results on a scheduled and/or real-time basis\\nWith Business Intelligence/Accounting, ensure financial/operational data accurately reflect the state of the business\\nPerform sophisticated ad-hoc analysis to answer complex business questions\\nTranslate business questions and requirements into productive data exploration and analysis exercises\\nIdentify, collect, cleanse, and validate financial, operational, and external data from a variety of cloud/local sources\\nBuild detailed analytical models to identify valuable insights that impact leadership decision making\\nCreate and deliver executive-level presentations offering actionable recommendations to drive business results\\nSupport ongoing corporate strategy and business development efforts\\nResearch/report on opportunities, threats, partners, competitors, emerging technologies, and other strategic concerns\\nValue organic and inorganic new business opportunities\\nParticipate in pre-merger diligence and post-merger integration activities as required\\nContinuously increase efficiency and effectiveness of financial and analytical processes\\nDevelop and implement enhanced tools and workflow within and adjacent to assigned areas of focus\\nDevelop shared resources, e.g. documentation, training, best practices, policy, etc., related to assigned areas of focus\\nOther\\nCreate and execute on comprehensive project plans, managing risks to consistently deliver top-quality, timely work\\nWork independently/with minimal supervision on all level-appropriate tasks, leveraging supervisor’s time\\nComplete additional duties as assigned\\nJOB REQUIREMENTS\\nWhat You’ve Done\\nYou have a Bachelor’s degree in finance, economics, or other quantitative field, with excellent academic record\\nYou’ve spent 2-3 years excelling in a corporate finance, management consulting, investment banking, equity research, Big 4 public accounting, or other highly-demanding quantitative role\\nYou might be familiar with advanced analytics tools (e.g. SQL, VBA, Python, Alteryx, Tableau Prep, R, SPSS, Stata)\\nYou might be familiar with the latest BI/data visualization tools (e.g. Tableau, PowerBI, Qlik, DOMO)\\nYou might be familiar with ERP/Planning (e.g. Oracle-Hyperion, SAP S/4HANA) and/or CRM systems (e.g. Salesforce)\\nYou might have earned the CPA and/or CFA credential\\nWhat You’re Looking For\\nAn opportunity to positively impact communities across America by going behind the scenes (literally) to help build the future of local media, working with dozens of beloved consumer brands such as WSB-TV ABC Channel 2 and B98.5 FM and joining the rich, 122-year-old Cox Media legacy dating to 1898\\nRapid career growth including development of deep expertise in media, finance, and analytics\\nDirect exposure to C-level and other senior media executives, as well as a world-class PE firm, early in your career\\nA fast-paced, team-oriented culture that values working hard and having fun, but respects time out of the office\\nGenerous benefits including healthcare, 401(k), and unlimited PTO (at supervisor discretion)\\nYou might be interested in pursuing a top-tier MBA after spending time at CMG, in which case management may offer resources and support contingent on 2-3 years of outstanding performance (please note, this is not a post-MBA role)\\nWho You Are\\nYou are driven to be world-class at whatever you do\\nYou have a high level of intellectual curiosity and are happiest when challenged and growing rapidly\\nYou are humble with outstanding work ethic, willing to put in the hours necessary to achieve your goals\\nYou are detail-oriented, ready to invest in the small and mundane to achieve the big and exciting\\nYou have a continuous improvement mindset, regularly seeking out coaching/development opportunities and testing, documenting, and refining best practices over the course of your work\\nYou are proactive and take ownership\\nYou are a self-starter who is able to conduct day-to-day activities with decreasing supervision\\nYou are comfortable making decisions within parameters agreed upon with your manager\\nYou are highly organized and manage your time effectively\\nYou have strong project management skills and can unbundle complex tasks into executable workplans\\nYou manage processes effectively, tracking risks and asking for help when appropriate\\nYou use all available resources and leverage the time and skills of your manager, partners, and peers\\nYou understand the big picture and balance competing priorities accordingly\\nYou have a “whatever it takes” attitude, overcoming obstacles to deliver on objectives ahead of deadline\\nYou have excellent business acumen and a client service mentality\\nYou intuitively grasp complex business problems, quickly identifying the highest-value areas of focus\\nYou are excited by the prospect of partnering with senior decision makers to help drive business results\\nYou build strong, collaborative, trusting relationships and gain the confidence of others\\nYou are an analytical problem solver (you love data!)\\nYou learn quickly by applying exceptional critical thinking skills and an analytical mindset\\nYou have the ability to explore, understand, and analyze data to answer complex questions\\nYou take a disciplined approach to problem solving and can thrive even with limited standardization of data\\nYou are highly proficient with Microsoft Excel and knowledgeable in a variety of analytical tools and methods\\nYou have excellent written and oral communication skills along with “senior presence”\\nYou identify and clearly communicate key insights, supported by data/logic, at an appropriate level of detail\\nYou participate effectively in meetings and are comfortable in discussions with senior executives\\nYou create/deliver effective presentations, utilizing audience-appropriate storytelling and visualizations\\nYou are a team player who exhibits professionalism and respect for others\\nYou work effectively in a team environment, leveraging strong interpersonal skills, a consistently positive attitude, and respect for your coworkers to increase the performance and satisfaction of those around you\\nYou offer effective 360-degree feedback and enjoy teaching and supporting the development of others\\nYou regularly identify realistic opportunities to improve the team experience for everyone\\n                try {\\n                    window.mosaic.onMosaicApiReady(function() {\\n                        var zoneId = 'belowFullJobDescription';\\n                        var providers = window.mosaic.zonedProviders[zoneId];\\n\\n                        if (providers) {\\n                            providers.filter(function(p) { return window.mosaic.lazyFns[p]; }).forEach(function(p) {\\n                                return window.mosaic.api.loadProvider(p);\\n                            });\\n                        }\\n                    });\\n                 } catch (e) {};\\n                \\n                try {\\n                    window.mosaic.onMosaicApiReady(function() {\\n                        var zoneId = 'belowJobDescription';\\n                        var providers = window.mosaic.zonedProviders[zoneId];\\n\\n                        if (providers) {\\n                            providers.filter(function(p) { return window.mosaic.lazyFns[p]; }).forEach(function(p) {\\n                                return window.mosaic.api.loadProvider(p);\\n                            });\\n                        }\\n                    });\\n                 } catch (e) {};\\n                Cox Media Group - 30+ days ago - save jobreport job - original job\\n                try {\\n                    window.mosaic.onMosaicApiReady(function() {\\n                        var zoneId = 'aboveViewjobButtons';\\n                        var providers = window.mosaic.zonedProviders[zoneId];\\n\\n                        if (providers) {\\n                            providers.filter(function(p) { return window.mosaic.lazyFns[p]; }).forEach(function(p) {\\n                                return window.mosaic.api.loadProvider(p);\\n                            });\\n                        }\\n                    });\\n                 } catch (e) {};\\n                Share this job\""
      ]
     },
     "execution_count": 25,
     "metadata": {},
     "output_type": "execute_result"
    }
   ],
   "source": [
    "# prior to applying, search the JD for required skills, experience, etc. # CMD + F\n",
    "jd[top_job.index[0]].text"
   ]
  },
  {
   "cell_type": "code",
   "execution_count": 26,
   "metadata": {
    "scrolled": false
   },
   "outputs": [
    {
     "data": {
      "text/html": [
       "<div>\n",
       "<style scoped>\n",
       "    .dataframe tbody tr th:only-of-type {\n",
       "        vertical-align: middle;\n",
       "    }\n",
       "\n",
       "    .dataframe tbody tr th {\n",
       "        vertical-align: top;\n",
       "    }\n",
       "\n",
       "    .dataframe thead th {\n",
       "        text-align: right;\n",
       "    }\n",
       "</style>\n",
       "<table border=\"1\" class=\"dataframe\">\n",
       "  <thead>\n",
       "    <tr style=\"text-align: right;\">\n",
       "      <th></th>\n",
       "      <th>0</th>\n",
       "    </tr>\n",
       "  </thead>\n",
       "  <tbody>\n",
       "    <tr>\n",
       "      <th>data</th>\n",
       "      <td>13</td>\n",
       "    </tr>\n",
       "    <tr>\n",
       "      <th>financial</th>\n",
       "      <td>10</td>\n",
       "    </tr>\n",
       "    <tr>\n",
       "      <th>analytical</th>\n",
       "      <td>9</td>\n",
       "    </tr>\n",
       "    <tr>\n",
       "      <th>finance</th>\n",
       "      <td>7</td>\n",
       "    </tr>\n",
       "    <tr>\n",
       "      <th>analytics</th>\n",
       "      <td>6</td>\n",
       "    </tr>\n",
       "    <tr>\n",
       "      <th>planning</th>\n",
       "      <td>6</td>\n",
       "    </tr>\n",
       "    <tr>\n",
       "      <th>tableau</th>\n",
       "      <td>4</td>\n",
       "    </tr>\n",
       "    <tr>\n",
       "      <th>fp</th>\n",
       "      <td>3</td>\n",
       "    </tr>\n",
       "    <tr>\n",
       "      <th>analysis</th>\n",
       "      <td>3</td>\n",
       "    </tr>\n",
       "    <tr>\n",
       "      <th>forecast</th>\n",
       "      <td>2</td>\n",
       "    </tr>\n",
       "  </tbody>\n",
       "</table>\n",
       "</div>"
      ],
      "text/plain": [
       "             0\n",
       "data        13\n",
       "financial   10\n",
       "analytical   9\n",
       "finance      7\n",
       "analytics    6\n",
       "planning     6\n",
       "tableau      4\n",
       "fp           3\n",
       "analysis     3\n",
       "forecast     2"
      ]
     },
     "execution_count": 26,
     "metadata": {},
     "output_type": "execute_result"
    }
   ],
   "source": [
    "# check for keywords in top job ... to customize R/CL\n",
    "pd.DataFrame.from_dict(d[top_job.index[0]], orient='index').sort_values(0, ascending=False).head(10)"
   ]
  },
  {
   "cell_type": "markdown",
   "metadata": {},
   "source": [
    "### back to refresh point"
   ]
  },
  {
   "cell_type": "code",
   "execution_count": null,
   "metadata": {},
   "outputs": [],
   "source": []
  }
 ],
 "metadata": {
  "kernelspec": {
   "display_name": "Python 3",
   "language": "python",
   "name": "python3"
  },
  "language_info": {
   "codemirror_mode": {
    "name": "ipython",
    "version": 3
   },
   "file_extension": ".py",
   "mimetype": "text/x-python",
   "name": "python",
   "nbconvert_exporter": "python",
   "pygments_lexer": "ipython3",
   "version": "3.7.7"
  }
 },
 "nbformat": 4,
 "nbformat_minor": 2
}
