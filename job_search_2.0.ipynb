{
 "cells": [
  {
   "cell_type": "markdown",
   "metadata": {},
   "source": [
    "# libraries import"
   ]
  },
  {
   "cell_type": "code",
   "execution_count": 1,
   "metadata": {},
   "outputs": [],
   "source": [
    "import numpy as np\n",
    "import pandas as pd\n",
    "import regex as re\n",
    "import os\n",
    "import time"
   ]
  },
  {
   "cell_type": "code",
   "execution_count": 2,
   "metadata": {
    "scrolled": true
   },
   "outputs": [],
   "source": [
    "with open('./urls.txt',\"r\") as urls:\n",
    "    urls = urls.readlines() # a list of key words with line breaks\n",
    "#     urls = [x.lower().replace('\\n',\"\") for x in urls]\n",
    "#     urls = [x.lower().replace(' ',\"\") for x in urls]\n",
    "# urls is a list of key search words"
   ]
  },
  {
   "cell_type": "code",
   "execution_count": 3,
   "metadata": {},
   "outputs": [],
   "source": [
    "import requests\n",
    "from bs4 import BeautifulSoup"
   ]
  },
  {
   "cell_type": "code",
   "execution_count": 4,
   "metadata": {},
   "outputs": [],
   "source": [
    "hdr = {'User-Agent': 'Mozilla/5.0'}"
   ]
  },
  {
   "cell_type": "code",
   "execution_count": 5,
   "metadata": {
    "scrolled": true
   },
   "outputs": [],
   "source": [
    "res = []\n",
    "for url in urls:\n",
    "    res.append(requests.get(url,headers=hdr))"
   ]
  },
  {
   "cell_type": "code",
   "execution_count": 6,
   "metadata": {},
   "outputs": [],
   "source": [
    "for i in range(len(res)):\n",
    "    if(res[i].status_code) != 200:\n",
    "        print('status not ok')"
   ]
  },
  {
   "cell_type": "code",
   "execution_count": 7,
   "metadata": {},
   "outputs": [],
   "source": [
    "soup = []\n",
    "for i in range(len(res)):\n",
    "    soup.append(BeautifulSoup(res[i].content, 'lxml'))"
   ]
  },
  {
   "cell_type": "code",
   "execution_count": 8,
   "metadata": {},
   "outputs": [],
   "source": [
    "#soup[i]"
   ]
  },
  {
   "cell_type": "code",
   "execution_count": 9,
   "metadata": {},
   "outputs": [],
   "source": [
    "jd = []\n",
    "for i in range(len(soup)):\n",
    "    if soup[i].find('div',{'class': 'description__text description__text--rich'}):\n",
    "        jd.append(soup[i].find('div',{'class': 'description__text description__text--rich'}))\n",
    "    elif soup[i].find('div',{'class': 'views-field views-field-field-job-description'}):\n",
    "        jd.append(soup[i].find('div',{'class': 'views-field views-field-field-job-description'}))\n",
    "    elif soup[i].find('div',{'class': 'jobDescriptionContent desc'}):\n",
    "        jd.append(soup[i].find('div',{'class': 'jobDescriptionContent desc'}))\n",
    "    elif soup[i].find(name='div', attrs={'id':'JobDescriptionContainer','class': 'tabSection pad noMargTop'}):\n",
    "        jd.append(soup[i].find(name='div', attrs={'id':'JobDescriptionContainer','class': 'tabSection pad noMargTop'})) #glassdoor\n",
    "        # .find(name='div', attrs={'id':'JobDescriptionContainer','class': 'tabSection pad noMargTop'})) \n",
    "        # another way same result\n",
    "    else:\n",
    "        jd.append(soup[i].find('div',{'class': 'jobsearch-JobComponent icl-u-xs-mt--sm'}))\n"
   ]
  },
  {
   "cell_type": "code",
   "execution_count": 10,
   "metadata": {
    "scrolled": true
   },
   "outputs": [
    {
     "data": {
      "text/plain": [
       "19"
      ]
     },
     "execution_count": 10,
     "metadata": {},
     "output_type": "execute_result"
    }
   ],
   "source": [
    "len(jd)"
   ]
  },
  {
   "cell_type": "code",
   "execution_count": 11,
   "metadata": {},
   "outputs": [
    {
     "data": {
      "text/plain": [
       "<div class=\"jobDescriptionContent desc\">This position is responsible for supporting the accounting and finance function with strategic financial modeling and analysis, as well as supporting cash flow controls and measures company-wide. This includes oversight of daily cash operations, detailed cash flow analysis, short and long term investment models as required by the ESOP, and providing support and / or direction regarding various investment vehicles. This role will also support cash flow reporting and ad hoc projects in the treasury and finance areas as needed, as well as long term strategic growth decisions.\n",
       "<br/><br/>\n",
       "<strong>Responsibilities:</strong>\n",
       "<ul>\n",
       "<li>Provide leverage to Corporate Controller by overseeing the daily management of cash inflows and outflows</li>\n",
       "<li>Conduct project-related activities in the areas of strategic planning, financial analysis, cash flows, capital investment planning, and special studies</li>\n",
       "<li>Development of detailed short term cash flow models that will identify the maximum cash available for investment to provide support for management decisions regarding various investment vehicles.</li>\n",
       "<li>Collaborates with Finance Directors, Group Finance and project personnel to identify information required for accurate cash flow modeling and forecasting</li>\n",
       "<li>Identifies and drills down on variances between forecasts and actual results, follows up with the appropriate parties, and summarizes root causes accurately</li>\n",
       "<li>Help drive cash flow best practices and enhancement company-wide</li>\n",
       "<li>Work with Information Systems department to develop pertinent items related to dashboard reporting</li>\n",
       "<li>Development and management of standardized reporting of cash flow impacts for management and business line leaders.</li>\n",
       "<li>Development of long term strategic cash flow models as required by annual ESOP valuation</li>\n",
       "<li>Development of corporate annual budget / cash flow models as required for Bank and Surety reporting</li>\n",
       "<li>Special Projects</li>\n",
       "<li>Assists with special projects for the Corporate Finance department as needed.</li>\n",
       "</ul>\n",
       "<strong>Qualifications:</strong>\n",
       "<ul>\n",
       "<li>Education: Bachelor’s Degree in Finance or Accounting. CPA or MBA a plus</li>\n",
       "<li>Experience:\n",
       "\n",
       "\n",
       "<ul>\n",
       "<li>5-8 years of experience in Finance, Accounting or related field</li>\n",
       "<li>Strong background in Treasury and Financial Planning and Analysis</li>\n",
       "<li>Financial modeling experience preferred</li>\n",
       "</ul>\n",
       "</li>\n",
       "<li>In depth knowledge of financial statement analysis, with the ability to analyze cash flow and the impact on the financial statement and related investments.</li>\n",
       "<li>Advanced financial modeling skills using Excel</li>\n",
       "<li>Ability to work both independently and collaboratively across functions in order to deliver high quality analysis</li>\n",
       "<li>Ability in strategic agility, problem solving, priority setting and planning, and delegation</li>\n",
       "<li>Strong oral and written communication skills</li>\n",
       "<li>Ability to adjust to changing priorities in a fast-paced, dynamic environment</li>\n",
       "<li>Strong attention to detail a must</li>\n",
       "</ul>\n",
       "SilverSky, a stand-alone subsidiary of BAE Systems Applied Intelligence is a cloud-based technology and managed security services provider. Our Security-as-a-Service platform delivers cloud-based software and managed services, such as Email Protection Services with advanced Data Loss Prevention, Targeted Attack Protection, Network Security Services, and Managed Application Services, that protect critical information simply and cost effectively.\n",
       "<br/><br/>\n",
       "<em>Diversity and inclusion are integral to the success of BAE Systems Applied Intelligence. We are proud to have an organisational culture where employees with varying perspectives, skills, life experiences and backgrounds – the best and brightest minds – can work together to achieve excellence and realise individual and organisational potential. We also welcome discussions about flexible working.</em></div>"
      ]
     },
     "execution_count": 11,
     "metadata": {},
     "output_type": "execute_result"
    }
   ],
   "source": [
    "jd[len(jd)-1]"
   ]
  },
  {
   "cell_type": "code",
   "execution_count": 12,
   "metadata": {},
   "outputs": [],
   "source": [
    "texto = []\n",
    "for i in range(len(jd)):\n",
    "    # doesn't work/nontype/main[i] = main[i].lower()\n",
    "    texto.append(re.findall(r'[A-z]+', jd[i].text))"
   ]
  },
  {
   "cell_type": "code",
   "execution_count": 13,
   "metadata": {},
   "outputs": [],
   "source": [
    "for i in range(len(texto)):\n",
    "    texto[i] = [x.lower() for x in texto[i]]"
   ]
  },
  {
   "cell_type": "code",
   "execution_count": 14,
   "metadata": {},
   "outputs": [],
   "source": [
    "with open('../kw/searchwords.txt',\"r\") as search_words:\n",
    "    search_words = search_words.readlines() # a list of key words with line breaks\n",
    "    search_words = [x.lower().replace('\\n',\"\") for x in search_words]\n",
    "    search_words = [x.lower().replace(' ',\"\") for x in search_words]\n",
    "# search_words is a list of key search words"
   ]
  },
  {
   "cell_type": "code",
   "execution_count": 15,
   "metadata": {},
   "outputs": [],
   "source": [
    "#texto[4]"
   ]
  },
  {
   "cell_type": "code",
   "execution_count": 16,
   "metadata": {},
   "outputs": [],
   "source": [
    "list_of_words = [] # of all jobs\n",
    "\n",
    "for i in range(len(texto)):\n",
    "    matching_words = [] # for each job\n",
    "    for word in texto[i]:\n",
    "        if word in search_words:\n",
    "            matching_words.append(word)\n",
    "    list_of_words.append(matching_words)\n",
    "# list_of_words is a list of matching words for each job"
   ]
  },
  {
   "cell_type": "code",
   "execution_count": 17,
   "metadata": {
    "scrolled": true
   },
   "outputs": [
    {
     "data": {
      "text/plain": [
       "['finance',\n",
       " 'financial',\n",
       " 'modeling',\n",
       " 'analysis',\n",
       " 'analysis',\n",
       " 'models',\n",
       " 'finance',\n",
       " 'decisions',\n",
       " 'planning',\n",
       " 'financial',\n",
       " 'analysis',\n",
       " 'planning',\n",
       " 'models',\n",
       " 'decisions',\n",
       " 'finance',\n",
       " 'finance',\n",
       " 'modeling',\n",
       " 'models',\n",
       " 'valuation',\n",
       " 'budget',\n",
       " 'models',\n",
       " 'finance',\n",
       " 'finance',\n",
       " 'mba',\n",
       " 'finance',\n",
       " 'financial',\n",
       " 'planning',\n",
       " 'analysis',\n",
       " 'financial',\n",
       " 'modeling',\n",
       " 'financial',\n",
       " 'analysis',\n",
       " 'analyze',\n",
       " 'financial',\n",
       " 'financial',\n",
       " 'modeling',\n",
       " 'excel',\n",
       " 'analysis',\n",
       " 'planning',\n",
       " 'data']"
      ]
     },
     "execution_count": 17,
     "metadata": {},
     "output_type": "execute_result"
    }
   ],
   "source": [
    "list_of_words[len(list_of_words)-1]"
   ]
  },
  {
   "cell_type": "code",
   "execution_count": 18,
   "metadata": {},
   "outputs": [
    {
     "data": {
      "text/plain": [
       "[57, 27, 2, 43, 66, 37, 49, 44, 63, 15, 52, 78, 25, 60, 75, 87, 97, 60, 71]"
      ]
     },
     "execution_count": 18,
     "metadata": {},
     "output_type": "execute_result"
    }
   ],
   "source": [
    "for j in range(len(list_of_words)):\n",
    "    for i, word in enumerate(list_of_words[j]):\n",
    "        if word == 'analytics':\n",
    "            list_of_words[j][i] = 3\n",
    "        elif word == 'analysis':\n",
    "            list_of_words[j][i] = 3\n",
    "        elif word == 'analyze':\n",
    "            list_of_words[j][i] = 3\n",
    "        elif word == 'analyzes':\n",
    "            list_of_words[j][i] = 3\n",
    "        elif word == 'analytical':\n",
    "            list_of_words[j][i] = 3\n",
    "        elif word == 'analyzing':\n",
    "            list_of_words[j][i] = 3\n",
    "        elif word == 'python':\n",
    "            list_of_words[j][i] = 3\n",
    "        elif word == 'mba':\n",
    "            list_of_words[j][i] = 3\n",
    "        elif word == 'cfa':\n",
    "            list_of_words[j][i] = 3\n",
    "        elif word == 'arabic':\n",
    "            list_of_words[j][i] = 3\n",
    "        elif word == 'french':\n",
    "            list_of_words[j][i] = 3\n",
    "        elif word == 'returnship':\n",
    "            list_of_words[j][i] = 3\n",
    "        elif word == 're-ignite':\n",
    "            list_of_words[j][i] = 3\n",
    "        elif word == 'relaunch':\n",
    "            list_of_words[j][i] = 3\n",
    "        elif word == 'mba':\n",
    "            list_of_words[j][i] = 3\n",
    "        elif word == 'data':\n",
    "            list_of_words[j][i] = 2\n",
    "        elif word == 'dataset':\n",
    "            list_of_words[j][i] = 2\n",
    "        elif word == 'datasets':\n",
    "            list_of_words[j][i] = 2\n",
    "        elif word == 'finance':\n",
    "            list_of_words[j][i] = 2\n",
    "        elif word == 'financial':\n",
    "            list_of_words[j][i] = 2\n",
    "        elif word == 'financials':\n",
    "            list_of_words[j][i] = 2\n",
    "        else: list_of_words[j][i] = 1\n",
    "\n",
    "score = []\n",
    "for i in range(len(list_of_words)):\n",
    "    score.append(sum(list_of_words[i]))\n",
    "score"
   ]
  },
  {
   "cell_type": "code",
   "execution_count": 19,
   "metadata": {},
   "outputs": [],
   "source": [
    "jobs = pd.DataFrame(columns=['link', 'appeal'])"
   ]
  },
  {
   "cell_type": "code",
   "execution_count": 20,
   "metadata": {},
   "outputs": [],
   "source": [
    "#range(len(urls))"
   ]
  },
  {
   "cell_type": "code",
   "execution_count": 21,
   "metadata": {
    "scrolled": true
   },
   "outputs": [],
   "source": [
    "url = []\n",
    "for i in range(len(urls)):\n",
    "    url.append(urls[i])"
   ]
  },
  {
   "cell_type": "code",
   "execution_count": 22,
   "metadata": {},
   "outputs": [],
   "source": [
    "jobs = jobs.assign(appeal=score, link = url)"
   ]
  },
  {
   "cell_type": "code",
   "execution_count": 23,
   "metadata": {},
   "outputs": [],
   "source": [
    "jobs['application'] = 'not yet'"
   ]
  },
  {
   "cell_type": "code",
   "execution_count": 24,
   "metadata": {},
   "outputs": [],
   "source": [
    "pd.set_option('display.max_colwidth', -1)"
   ]
  },
  {
   "cell_type": "code",
   "execution_count": 25,
   "metadata": {
    "scrolled": true
   },
   "outputs": [
    {
     "data": {
      "text/html": [
       "<div>\n",
       "<style scoped>\n",
       "    .dataframe tbody tr th:only-of-type {\n",
       "        vertical-align: middle;\n",
       "    }\n",
       "\n",
       "    .dataframe tbody tr th {\n",
       "        vertical-align: top;\n",
       "    }\n",
       "\n",
       "    .dataframe thead th {\n",
       "        text-align: right;\n",
       "    }\n",
       "</style>\n",
       "<table border=\"1\" class=\"dataframe\">\n",
       "  <thead>\n",
       "    <tr style=\"text-align: right;\">\n",
       "      <th></th>\n",
       "      <th>link</th>\n",
       "      <th>appeal</th>\n",
       "      <th>application</th>\n",
       "    </tr>\n",
       "  </thead>\n",
       "  <tbody>\n",
       "    <tr>\n",
       "      <th>16</th>\n",
       "      <td>https://www.linkedin.com/comm/jobs/view/1580526502?alertAction=markasviewed&amp;savedSearchAuthToken=1%26AQHJTfHCdkA87AAAAW65TG5CXPZxacyXKJwvaDz0xDG4-gnOpCyeFc4tSuNiKctEGiUjDncbYlVJRt6Eulbfg1nBbcZ5iyvsgprRh5FA0s7gcZmyRnhhcoToSwV93cIg9wu9Tyn_y7Irb8_Ax3p0BL7tuDzehOGTf5lwT5CksD4-Sm_udia4fMG6Z5H3-9Qj3oaN9jZeWOf0VLQ5CS_knUAHUoPe3nh15f7UasdTrwIZoVbM3KhxGNn6-WdowjubzUEUoXjwSjZGNuz5KiZ4kQZ_B7M1tsYNzeIrkcBskd-lkZEENypsEg%26AYhZRNXQGyks17CMUfv8OzT7rGNU&amp;savedSearchId=594424774&amp;refId=ef71acb5-49f0-452c-b221-b3674ef8f7f6&amp;trk=eml-job-alert-member-details&amp;midToken=AQHqAZHSwnQLlg&amp;trkEmail=eml-email_job_alert_single_02-null-7-null-null-pbd8v%7Ek3kq4bql%7E5h-null-jobs%7Eview&amp;lipi=urn%3Ali%3Apage%3Aemail_email_job_alert_single_02%3BISJddRE8Rle6niPOFijY1A%3D%3D\\n</td>\n",
       "      <td>97</td>\n",
       "      <td>not yet</td>\n",
       "    </tr>\n",
       "    <tr>\n",
       "      <th>15</th>\n",
       "      <td>https://www.linkedin.com/comm/jobs/view/1622246747?alertAction=markasviewed&amp;savedSearchAuthToken=1%26AQH2kSH8dfSJfwAAAW64z_TKvkD5DCGtrbVCUHAn5nkPXIrXQtInpoCcAHPVrxDuFK4ZE0rsyP0TbQpRNkZn50HseSL5d0kFlIn4gACsFM5QUWzCrXzlPmZBszAomjsP5a3gomTGe9LX1XmUTx0_z5LdC8IYHVXN9YW1Zu8k-yBCpq4dAsBQFXl2YNCjmAzPIZA312p5iTQjNEZPRIZasOf3VSfT4VzMVEa6XtXGjiYrbr6R-tgn-TCdtVQlKK18NvlGQevlA5gKbHn1U6WLfhR0WRJb328WdOsToxgeDR4FHbHUgTb4Jw%26AQbuKVLHwdq5uTbcBZhFLGSGkvqA&amp;savedSearchId=594262034&amp;refId=6d6002b7-9d39-4bd1-95a6-a086472abdf1&amp;trk=eml-job-alert-member-details&amp;midToken=AQHqAZHSwnQLlg&amp;trkEmail=eml-email_job_alert_single_02-null-12-null-null-pbd8v%7Ek3kl9hg2%7E6z-null-jobs%7Eview&amp;lipi=urn%3Ali%3Apage%3Aemail_email_job_alert_single_02%3BFIg6xg8qTpmp96c41gWSjQ%3D%3D\\n</td>\n",
       "      <td>87</td>\n",
       "      <td>not yet</td>\n",
       "    </tr>\n",
       "    <tr>\n",
       "      <th>11</th>\n",
       "      <td>https://www.linkedin.com/jobs/view/sr-analyst-fp-a-%E2%80%93-global-manufacturing-supply-chain-at-cardinal-health-1435832415?utm_campaign=google_jobs_apply&amp;utm_source=google_jobs_apply&amp;utm_medium=organic\\n</td>\n",
       "      <td>78</td>\n",
       "      <td>not yet</td>\n",
       "    </tr>\n",
       "    <tr>\n",
       "      <th>14</th>\n",
       "      <td>https://www.linkedin.com/comm/jobs/view/1625554722?alertAction=markasviewed&amp;savedSearchAuthToken=1%26AQH2kSH8dfSJfwAAAW64z_TKvkD5DCGtrbVCUHAn5nkPXIrXQtInpoCcAHPVrxDuFK4ZE0rsyP0TbQpRNkZn50HseSL5d0kFlIn4gACsFM5QUWzCrXzlPmZBszAomjsP5a3gomTGe9LX1XmUTx0_z5LdC8IYHVXN9YW1Zu8k-yBCpq4dAsBQFXl2YNCjmAzPIZA312p5iTQjNEZPRIZasOf3VSfT4VzMVEa6XtXGjiYrbr6R-tgn-TCdtVQlKK18NvlGQevlA5gKbHn1U6WLfhR0WRJb328WdOsToxgeDR4FHbHUgTb4Jw%26AQbuKVLHwdq5uTbcBZhFLGSGkvqA&amp;savedSearchId=594262034&amp;refId=6d6002b7-9d39-4bd1-95a6-a086472abdf1&amp;trk=eml-job-alert-member-details&amp;midToken=AQHqAZHSwnQLlg&amp;trkEmail=eml-email_job_alert_single_02-null-6-null-null-pbd8v%7Ek3kl9hg2%7E6z-null-jobs%7Eview&amp;lipi=urn%3Ali%3Apage%3Aemail_email_job_alert_single_02%3BFIg6xg8qTpmp96c41gWSjQ%3D%3D\\n</td>\n",
       "      <td>75</td>\n",
       "      <td>not yet</td>\n",
       "    </tr>\n",
       "    <tr>\n",
       "      <th>18</th>\n",
       "      <td>https://www.glassdoor.com/job-listing/fpa-analyst-bae-systems-JV_IC1154532_KO0,11_KE12,23.htm?jl=3402437829&amp;utm_campaign=google_jobs_apply&amp;utm_source=google_jobs_apply&amp;utm_medium=organic</td>\n",
       "      <td>71</td>\n",
       "      <td>not yet</td>\n",
       "    </tr>\n",
       "    <tr>\n",
       "      <th>4</th>\n",
       "      <td>https://www.indeed.com/viewjob?jk=56951762105c62cc&amp;l=United+States&amp;tk=1dqu4m0jb36q1801&amp;from=ja&amp;alid=5dd28f1ae7d95a189587cfdc&amp;utm_campaign=job_alerts&amp;utm_medium=email&amp;utm_source=jobseeker_emails&amp;rgtk=1dqu4m0jb36q1801\\n</td>\n",
       "      <td>66</td>\n",
       "      <td>not yet</td>\n",
       "    </tr>\n",
       "    <tr>\n",
       "      <th>8</th>\n",
       "      <td>https://www.indeed.com/viewjob?jk=710949f4c5006d1e&amp;l=United+States&amp;tk=1dqu4m0jb36q1801&amp;from=ja&amp;alid=5dd28f1ae7d95a189587cfdc&amp;utm_campaign=job_alerts&amp;utm_medium=email&amp;utm_source=jobseeker_emails&amp;rgtk=1dqu4m0jb36q1801\\n</td>\n",
       "      <td>63</td>\n",
       "      <td>not yet</td>\n",
       "    </tr>\n",
       "    <tr>\n",
       "      <th>13</th>\n",
       "      <td>https://www.linkedin.com/comm/jobs/view/1626199321?alertAction=markasviewed&amp;savedSearchAuthToken=1%26AQFqHGLs6PpvwwAAAW64bH7BQyxil2AmQz_5poqkiLHiWussb0bUhHDZpn0FL55g0UuQpa50zTqFfqCinnTce9A_MWbSioMt5Gw1pl-e2cKqtW6l-KDV4pg_hgnkZbdkK_4askle_Ej4UWjJMCuG_tKIDt8nWu_0MREa4PVlXn3xkTXVl7T1sDIIR2EwIOQcT9If3WdYqT6UHyI8sasX_MytxqNz2sZHOkHgMTQuQuY88iwuK1hvZp9Ro2ynTvA0_24QwA5TwPKK2LNfxSeX03gQHqU82APqFx2zZVSsTwlXpkc3I1rXRQ%26AfTLEBkJVAPSARWQXSVWTTFVcbGB&amp;savedSearchId=594131834&amp;refId=f2f95cba-1d7e-4a45-8993-2106e0b8a8c1&amp;trk=eml-job-alert-member-details&amp;midToken=AQHqAZHSwnQLlg&amp;trkEmail=eml-email_job_alert_single_02-null-6-null-null-pbd8v%7Ek3khdrsn%7Et4-null-jobs%7Eview&amp;lipi=urn%3Ali%3Apage%3Aemail_email_job_alert_single_02%3BkC82U5ULQUKAtJ5%2FG2wNUg%3D%3D\\n</td>\n",
       "      <td>60</td>\n",
       "      <td>not yet</td>\n",
       "    </tr>\n",
       "    <tr>\n",
       "      <th>17</th>\n",
       "      <td>https://www.indeed.com/viewjob?jk=dddae86be25cd8a2&amp;l=United+States&amp;tk=1dqu4m0jb36q1801&amp;from=ja&amp;alid=5dd28f1ae7d95a189587cfdc&amp;utm_campaign=job_alerts&amp;utm_medium=email&amp;utm_source=jobseeker_emails&amp;rgtk=1dqu4m0jb36q1801\\n</td>\n",
       "      <td>60</td>\n",
       "      <td>not yet</td>\n",
       "    </tr>\n",
       "    <tr>\n",
       "      <th>0</th>\n",
       "      <td>https://www.indeed.com/viewjob?jk=21253b6779754609&amp;l=United+States&amp;tk=1dqu4m0jb36q1801&amp;from=ja&amp;alid=5dd28f1ae7d95a189587cfdc&amp;utm_campaign=job_alerts&amp;utm_medium=email&amp;utm_source=jobseeker_emails&amp;rgtk=1dqu4m0jb36q1801\\n</td>\n",
       "      <td>57</td>\n",
       "      <td>not yet</td>\n",
       "    </tr>\n",
       "    <tr>\n",
       "      <th>10</th>\n",
       "      <td>https://www.indeed.com/viewjob?jk=29578bca83d164d4&amp;l=United+States&amp;tk=1dqu4m0jb36q1801&amp;from=ja&amp;alid=5dd28f1ae7d95a189587cfdc&amp;utm_campaign=job_alerts&amp;utm_medium=email&amp;utm_source=jobseeker_emails&amp;rgtk=1dqu4m0jb36q1801\\n</td>\n",
       "      <td>52</td>\n",
       "      <td>not yet</td>\n",
       "    </tr>\n",
       "    <tr>\n",
       "      <th>6</th>\n",
       "      <td>https://www.indeed.com/viewjob?jk=710ed6412c9a42e5&amp;l=United+States&amp;tk=1dqu4m0jb36q1801&amp;from=ja&amp;alid=5dd28f1ae7d95a189587cfdc&amp;utm_campaign=job_alerts&amp;utm_medium=email&amp;utm_source=jobseeker_emails&amp;rgtk=1dqu4m0jb36q1801\\n</td>\n",
       "      <td>49</td>\n",
       "      <td>not yet</td>\n",
       "    </tr>\n",
       "    <tr>\n",
       "      <th>7</th>\n",
       "      <td>https://www.indeed.com/viewjob?jk=25ee881e3e97cd30&amp;l=United+States&amp;tk=1dqu4m0jb36q1801&amp;from=ja&amp;alid=5dd28f1ae7d95a189587cfdc&amp;utm_campaign=job_alerts&amp;utm_medium=email&amp;utm_source=jobseeker_emails&amp;rgtk=1dqu4m0jb36q1801\\n</td>\n",
       "      <td>44</td>\n",
       "      <td>not yet</td>\n",
       "    </tr>\n",
       "    <tr>\n",
       "      <th>3</th>\n",
       "      <td>https://www.indeed.com/viewjob?jk=109d904174c9d016&amp;l=United+States&amp;tk=1dqu4m0jb36q1801&amp;from=ja&amp;alid=5dd28f1ae7d95a189587cfdc&amp;utm_campaign=job_alerts&amp;utm_medium=email&amp;utm_source=jobseeker_emails&amp;rgtk=1dqu4m0jb36q1801\\n</td>\n",
       "      <td>43</td>\n",
       "      <td>not yet</td>\n",
       "    </tr>\n",
       "    <tr>\n",
       "      <th>5</th>\n",
       "      <td>https://www.indeed.com/viewjob?jk=eadf193824c19540&amp;l=United+States&amp;tk=1dqu4m0jb36q1801&amp;from=ja&amp;alid=5dd28f1ae7d95a189587cfdc&amp;utm_campaign=job_alerts&amp;utm_medium=email&amp;utm_source=jobseeker_emails&amp;rgtk=1dqu4m0jb36q1801\\n</td>\n",
       "      <td>37</td>\n",
       "      <td>not yet</td>\n",
       "    </tr>\n",
       "    <tr>\n",
       "      <th>1</th>\n",
       "      <td>https://www.indeed.com/viewjob?jk=05517123ad6d7977&amp;l=United+States&amp;tk=1dqu4m0jb36q1801&amp;from=ja&amp;alid=5dd28f1ae7d95a189587cfdc&amp;utm_campaign=job_alerts&amp;utm_medium=email&amp;utm_source=jobseeker_emails&amp;rgtk=1dqu4m0jb36q1801\\n</td>\n",
       "      <td>27</td>\n",
       "      <td>not yet</td>\n",
       "    </tr>\n",
       "    <tr>\n",
       "      <th>12</th>\n",
       "      <td>https://www.linkedin.com/jobs/view/analyst-senior-fp-a-at-cvs-health-1601289944?utm_campaign=google_jobs_apply&amp;utm_source=google_jobs_apply&amp;utm_medium=organic\\n</td>\n",
       "      <td>25</td>\n",
       "      <td>not yet</td>\n",
       "    </tr>\n",
       "    <tr>\n",
       "      <th>9</th>\n",
       "      <td>https://www.indeed.com/viewjob?jk=b4323d1ec5d72250&amp;l=United+States&amp;tk=1dqu4m0jb36q1801&amp;from=ja&amp;advn=9807762053028126&amp;adid=320399629&amp;sjdu=i6xVERweJM_pVUvgf-Mzud2KHack-wE2Lb7KQz0L0LbzcQMXZwCALUHG5DMruHzM&amp;acatk=1dr19s85bp7q7800&amp;pub=e4ea14867e765046&amp;utm_campaign=job_alerts&amp;utm_medium=email&amp;utm_source=jobseeker_emails\\n</td>\n",
       "      <td>15</td>\n",
       "      <td>not yet</td>\n",
       "    </tr>\n",
       "    <tr>\n",
       "      <th>2</th>\n",
       "      <td>https://www.indeed.com/viewjob?jk=3672f6456ae57712&amp;l=United+States&amp;tk=1dqu4m0jb36q1801&amp;from=ja&amp;alid=5dd28f1ae7d95a189587cfdc&amp;utm_campaign=job_alerts&amp;utm_medium=email&amp;utm_source=jobseeker_emails&amp;rgtk=1dqu4m0jb36q1801\\n</td>\n",
       "      <td>2</td>\n",
       "      <td>not yet</td>\n",
       "    </tr>\n",
       "  </tbody>\n",
       "</table>\n",
       "</div>"
      ],
      "text/plain": [
       "                                                                                                                                                                                                                                                                                                                                                                                                                                                                                                                                                                                                                                                                                                                                                                               link  \\\n",
       "16  https://www.linkedin.com/comm/jobs/view/1580526502?alertAction=markasviewed&savedSearchAuthToken=1%26AQHJTfHCdkA87AAAAW65TG5CXPZxacyXKJwvaDz0xDG4-gnOpCyeFc4tSuNiKctEGiUjDncbYlVJRt6Eulbfg1nBbcZ5iyvsgprRh5FA0s7gcZmyRnhhcoToSwV93cIg9wu9Tyn_y7Irb8_Ax3p0BL7tuDzehOGTf5lwT5CksD4-Sm_udia4fMG6Z5H3-9Qj3oaN9jZeWOf0VLQ5CS_knUAHUoPe3nh15f7UasdTrwIZoVbM3KhxGNn6-WdowjubzUEUoXjwSjZGNuz5KiZ4kQZ_B7M1tsYNzeIrkcBskd-lkZEENypsEg%26AYhZRNXQGyks17CMUfv8OzT7rGNU&savedSearchId=594424774&refId=ef71acb5-49f0-452c-b221-b3674ef8f7f6&trk=eml-job-alert-member-details&midToken=AQHqAZHSwnQLlg&trkEmail=eml-email_job_alert_single_02-null-7-null-null-pbd8v%7Ek3kq4bql%7E5h-null-jobs%7Eview&lipi=urn%3Ali%3Apage%3Aemail_email_job_alert_single_02%3BISJddRE8Rle6niPOFijY1A%3D%3D\\n     \n",
       "15  https://www.linkedin.com/comm/jobs/view/1622246747?alertAction=markasviewed&savedSearchAuthToken=1%26AQH2kSH8dfSJfwAAAW64z_TKvkD5DCGtrbVCUHAn5nkPXIrXQtInpoCcAHPVrxDuFK4ZE0rsyP0TbQpRNkZn50HseSL5d0kFlIn4gACsFM5QUWzCrXzlPmZBszAomjsP5a3gomTGe9LX1XmUTx0_z5LdC8IYHVXN9YW1Zu8k-yBCpq4dAsBQFXl2YNCjmAzPIZA312p5iTQjNEZPRIZasOf3VSfT4VzMVEa6XtXGjiYrbr6R-tgn-TCdtVQlKK18NvlGQevlA5gKbHn1U6WLfhR0WRJb328WdOsToxgeDR4FHbHUgTb4Jw%26AQbuKVLHwdq5uTbcBZhFLGSGkvqA&savedSearchId=594262034&refId=6d6002b7-9d39-4bd1-95a6-a086472abdf1&trk=eml-job-alert-member-details&midToken=AQHqAZHSwnQLlg&trkEmail=eml-email_job_alert_single_02-null-12-null-null-pbd8v%7Ek3kl9hg2%7E6z-null-jobs%7Eview&lipi=urn%3Ali%3Apage%3Aemail_email_job_alert_single_02%3BFIg6xg8qTpmp96c41gWSjQ%3D%3D\\n    \n",
       "11  https://www.linkedin.com/jobs/view/sr-analyst-fp-a-%E2%80%93-global-manufacturing-supply-chain-at-cardinal-health-1435832415?utm_campaign=google_jobs_apply&utm_source=google_jobs_apply&utm_medium=organic\\n                                                                                                                                                                                                                                                                                                                                                                                                                                                                                                                                                                     \n",
       "14  https://www.linkedin.com/comm/jobs/view/1625554722?alertAction=markasviewed&savedSearchAuthToken=1%26AQH2kSH8dfSJfwAAAW64z_TKvkD5DCGtrbVCUHAn5nkPXIrXQtInpoCcAHPVrxDuFK4ZE0rsyP0TbQpRNkZn50HseSL5d0kFlIn4gACsFM5QUWzCrXzlPmZBszAomjsP5a3gomTGe9LX1XmUTx0_z5LdC8IYHVXN9YW1Zu8k-yBCpq4dAsBQFXl2YNCjmAzPIZA312p5iTQjNEZPRIZasOf3VSfT4VzMVEa6XtXGjiYrbr6R-tgn-TCdtVQlKK18NvlGQevlA5gKbHn1U6WLfhR0WRJb328WdOsToxgeDR4FHbHUgTb4Jw%26AQbuKVLHwdq5uTbcBZhFLGSGkvqA&savedSearchId=594262034&refId=6d6002b7-9d39-4bd1-95a6-a086472abdf1&trk=eml-job-alert-member-details&midToken=AQHqAZHSwnQLlg&trkEmail=eml-email_job_alert_single_02-null-6-null-null-pbd8v%7Ek3kl9hg2%7E6z-null-jobs%7Eview&lipi=urn%3Ali%3Apage%3Aemail_email_job_alert_single_02%3BFIg6xg8qTpmp96c41gWSjQ%3D%3D\\n     \n",
       "18  https://www.glassdoor.com/job-listing/fpa-analyst-bae-systems-JV_IC1154532_KO0,11_KE12,23.htm?jl=3402437829&utm_campaign=google_jobs_apply&utm_source=google_jobs_apply&utm_medium=organic                                                                                                                                                                                                                                                                                                                                                                                                                                                                                                                                                                                        \n",
       "4   https://www.indeed.com/viewjob?jk=56951762105c62cc&l=United+States&tk=1dqu4m0jb36q1801&from=ja&alid=5dd28f1ae7d95a189587cfdc&utm_campaign=job_alerts&utm_medium=email&utm_source=jobseeker_emails&rgtk=1dqu4m0jb36q1801\\n                                                                                                                                                                                                                                                                                                                                                                                                                                                                                                                                                         \n",
       "8   https://www.indeed.com/viewjob?jk=710949f4c5006d1e&l=United+States&tk=1dqu4m0jb36q1801&from=ja&alid=5dd28f1ae7d95a189587cfdc&utm_campaign=job_alerts&utm_medium=email&utm_source=jobseeker_emails&rgtk=1dqu4m0jb36q1801\\n                                                                                                                                                                                                                                                                                                                                                                                                                                                                                                                                                         \n",
       "13  https://www.linkedin.com/comm/jobs/view/1626199321?alertAction=markasviewed&savedSearchAuthToken=1%26AQFqHGLs6PpvwwAAAW64bH7BQyxil2AmQz_5poqkiLHiWussb0bUhHDZpn0FL55g0UuQpa50zTqFfqCinnTce9A_MWbSioMt5Gw1pl-e2cKqtW6l-KDV4pg_hgnkZbdkK_4askle_Ej4UWjJMCuG_tKIDt8nWu_0MREa4PVlXn3xkTXVl7T1sDIIR2EwIOQcT9If3WdYqT6UHyI8sasX_MytxqNz2sZHOkHgMTQuQuY88iwuK1hvZp9Ro2ynTvA0_24QwA5TwPKK2LNfxSeX03gQHqU82APqFx2zZVSsTwlXpkc3I1rXRQ%26AfTLEBkJVAPSARWQXSVWTTFVcbGB&savedSearchId=594131834&refId=f2f95cba-1d7e-4a45-8993-2106e0b8a8c1&trk=eml-job-alert-member-details&midToken=AQHqAZHSwnQLlg&trkEmail=eml-email_job_alert_single_02-null-6-null-null-pbd8v%7Ek3khdrsn%7Et4-null-jobs%7Eview&lipi=urn%3Ali%3Apage%3Aemail_email_job_alert_single_02%3BkC82U5ULQUKAtJ5%2FG2wNUg%3D%3D\\n   \n",
       "17  https://www.indeed.com/viewjob?jk=dddae86be25cd8a2&l=United+States&tk=1dqu4m0jb36q1801&from=ja&alid=5dd28f1ae7d95a189587cfdc&utm_campaign=job_alerts&utm_medium=email&utm_source=jobseeker_emails&rgtk=1dqu4m0jb36q1801\\n                                                                                                                                                                                                                                                                                                                                                                                                                                                                                                                                                         \n",
       "0   https://www.indeed.com/viewjob?jk=21253b6779754609&l=United+States&tk=1dqu4m0jb36q1801&from=ja&alid=5dd28f1ae7d95a189587cfdc&utm_campaign=job_alerts&utm_medium=email&utm_source=jobseeker_emails&rgtk=1dqu4m0jb36q1801\\n                                                                                                                                                                                                                                                                                                                                                                                                                                                                                                                                                         \n",
       "10  https://www.indeed.com/viewjob?jk=29578bca83d164d4&l=United+States&tk=1dqu4m0jb36q1801&from=ja&alid=5dd28f1ae7d95a189587cfdc&utm_campaign=job_alerts&utm_medium=email&utm_source=jobseeker_emails&rgtk=1dqu4m0jb36q1801\\n                                                                                                                                                                                                                                                                                                                                                                                                                                                                                                                                                         \n",
       "6   https://www.indeed.com/viewjob?jk=710ed6412c9a42e5&l=United+States&tk=1dqu4m0jb36q1801&from=ja&alid=5dd28f1ae7d95a189587cfdc&utm_campaign=job_alerts&utm_medium=email&utm_source=jobseeker_emails&rgtk=1dqu4m0jb36q1801\\n                                                                                                                                                                                                                                                                                                                                                                                                                                                                                                                                                         \n",
       "7   https://www.indeed.com/viewjob?jk=25ee881e3e97cd30&l=United+States&tk=1dqu4m0jb36q1801&from=ja&alid=5dd28f1ae7d95a189587cfdc&utm_campaign=job_alerts&utm_medium=email&utm_source=jobseeker_emails&rgtk=1dqu4m0jb36q1801\\n                                                                                                                                                                                                                                                                                                                                                                                                                                                                                                                                                         \n",
       "3   https://www.indeed.com/viewjob?jk=109d904174c9d016&l=United+States&tk=1dqu4m0jb36q1801&from=ja&alid=5dd28f1ae7d95a189587cfdc&utm_campaign=job_alerts&utm_medium=email&utm_source=jobseeker_emails&rgtk=1dqu4m0jb36q1801\\n                                                                                                                                                                                                                                                                                                                                                                                                                                                                                                                                                         \n",
       "5   https://www.indeed.com/viewjob?jk=eadf193824c19540&l=United+States&tk=1dqu4m0jb36q1801&from=ja&alid=5dd28f1ae7d95a189587cfdc&utm_campaign=job_alerts&utm_medium=email&utm_source=jobseeker_emails&rgtk=1dqu4m0jb36q1801\\n                                                                                                                                                                                                                                                                                                                                                                                                                                                                                                                                                         \n",
       "1   https://www.indeed.com/viewjob?jk=05517123ad6d7977&l=United+States&tk=1dqu4m0jb36q1801&from=ja&alid=5dd28f1ae7d95a189587cfdc&utm_campaign=job_alerts&utm_medium=email&utm_source=jobseeker_emails&rgtk=1dqu4m0jb36q1801\\n                                                                                                                                                                                                                                                                                                                                                                                                                                                                                                                                                         \n",
       "12  https://www.linkedin.com/jobs/view/analyst-senior-fp-a-at-cvs-health-1601289944?utm_campaign=google_jobs_apply&utm_source=google_jobs_apply&utm_medium=organic\\n                                                                                                                                                                                                                                                                                                                                                                                                                                                                                                                                                                                                                  \n",
       "9   https://www.indeed.com/viewjob?jk=b4323d1ec5d72250&l=United+States&tk=1dqu4m0jb36q1801&from=ja&advn=9807762053028126&adid=320399629&sjdu=i6xVERweJM_pVUvgf-Mzud2KHack-wE2Lb7KQz0L0LbzcQMXZwCALUHG5DMruHzM&acatk=1dr19s85bp7q7800&pub=e4ea14867e765046&utm_campaign=job_alerts&utm_medium=email&utm_source=jobseeker_emails\\n                                                                                                                                                                                                                                                                                                                                                                                                                                                      \n",
       "2   https://www.indeed.com/viewjob?jk=3672f6456ae57712&l=United+States&tk=1dqu4m0jb36q1801&from=ja&alid=5dd28f1ae7d95a189587cfdc&utm_campaign=job_alerts&utm_medium=email&utm_source=jobseeker_emails&rgtk=1dqu4m0jb36q1801\\n                                                                                                                                                                                                                                                                                                                                                                                                                                                                                                                                                         \n",
       "\n",
       "    appeal application  \n",
       "16  97      not yet     \n",
       "15  87      not yet     \n",
       "11  78      not yet     \n",
       "14  75      not yet     \n",
       "18  71      not yet     \n",
       "4   66      not yet     \n",
       "8   63      not yet     \n",
       "13  60      not yet     \n",
       "17  60      not yet     \n",
       "0   57      not yet     \n",
       "10  52      not yet     \n",
       "6   49      not yet     \n",
       "7   44      not yet     \n",
       "3   43      not yet     \n",
       "5   37      not yet     \n",
       "1   27      not yet     \n",
       "12  25      not yet     \n",
       "9   15      not yet     \n",
       "2   2       not yet     "
      ]
     },
     "execution_count": 25,
     "metadata": {},
     "output_type": "execute_result"
    }
   ],
   "source": [
    "jobs.sort_values(['application', 'appeal'], ascending=[True, False] )"
   ]
  },
  {
   "cell_type": "code",
   "execution_count": 29,
   "metadata": {},
   "outputs": [],
   "source": [
    "jobs.to_csv('./jobs_{}'.format(time.strftime(\"%Y%m%d-%H%M%S\")))"
   ]
  },
  {
   "cell_type": "code",
   "execution_count": 27,
   "metadata": {
    "scrolled": true
   },
   "outputs": [
    {
     "data": {
      "text/html": [
       "<div>\n",
       "<style scoped>\n",
       "    .dataframe tbody tr th:only-of-type {\n",
       "        vertical-align: middle;\n",
       "    }\n",
       "\n",
       "    .dataframe tbody tr th {\n",
       "        vertical-align: top;\n",
       "    }\n",
       "\n",
       "    .dataframe thead th {\n",
       "        text-align: right;\n",
       "    }\n",
       "</style>\n",
       "<table border=\"1\" class=\"dataframe\">\n",
       "  <thead>\n",
       "    <tr style=\"text-align: right;\">\n",
       "      <th></th>\n",
       "      <th>link</th>\n",
       "      <th>appeal</th>\n",
       "      <th>application</th>\n",
       "    </tr>\n",
       "  </thead>\n",
       "  <tbody>\n",
       "    <tr>\n",
       "      <th>16</th>\n",
       "      <td>https://www.linkedin.com/comm/jobs/view/1580526502?alertAction=markasviewed&amp;savedSearchAuthToken=1%26AQHJTfHCdkA87AAAAW65TG5CXPZxacyXKJwvaDz0xDG4-gnOpCyeFc4tSuNiKctEGiUjDncbYlVJRt6Eulbfg1nBbcZ5iyvsgprRh5FA0s7gcZmyRnhhcoToSwV93cIg9wu9Tyn_y7Irb8_Ax3p0BL7tuDzehOGTf5lwT5CksD4-Sm_udia4fMG6Z5H3-9Qj3oaN9jZeWOf0VLQ5CS_knUAHUoPe3nh15f7UasdTrwIZoVbM3KhxGNn6-WdowjubzUEUoXjwSjZGNuz5KiZ4kQZ_B7M1tsYNzeIrkcBskd-lkZEENypsEg%26AYhZRNXQGyks17CMUfv8OzT7rGNU&amp;savedSearchId=594424774&amp;refId=ef71acb5-49f0-452c-b221-b3674ef8f7f6&amp;trk=eml-job-alert-member-details&amp;midToken=AQHqAZHSwnQLlg&amp;trkEmail=eml-email_job_alert_single_02-null-7-null-null-pbd8v%7Ek3kq4bql%7E5h-null-jobs%7Eview&amp;lipi=urn%3Ali%3Apage%3Aemail_email_job_alert_single_02%3BISJddRE8Rle6niPOFijY1A%3D%3D\\n</td>\n",
       "      <td>97</td>\n",
       "      <td>yes</td>\n",
       "    </tr>\n",
       "    <tr>\n",
       "      <th>15</th>\n",
       "      <td>https://www.linkedin.com/comm/jobs/view/1622246747?alertAction=markasviewed&amp;savedSearchAuthToken=1%26AQH2kSH8dfSJfwAAAW64z_TKvkD5DCGtrbVCUHAn5nkPXIrXQtInpoCcAHPVrxDuFK4ZE0rsyP0TbQpRNkZn50HseSL5d0kFlIn4gACsFM5QUWzCrXzlPmZBszAomjsP5a3gomTGe9LX1XmUTx0_z5LdC8IYHVXN9YW1Zu8k-yBCpq4dAsBQFXl2YNCjmAzPIZA312p5iTQjNEZPRIZasOf3VSfT4VzMVEa6XtXGjiYrbr6R-tgn-TCdtVQlKK18NvlGQevlA5gKbHn1U6WLfhR0WRJb328WdOsToxgeDR4FHbHUgTb4Jw%26AQbuKVLHwdq5uTbcBZhFLGSGkvqA&amp;savedSearchId=594262034&amp;refId=6d6002b7-9d39-4bd1-95a6-a086472abdf1&amp;trk=eml-job-alert-member-details&amp;midToken=AQHqAZHSwnQLlg&amp;trkEmail=eml-email_job_alert_single_02-null-12-null-null-pbd8v%7Ek3kl9hg2%7E6z-null-jobs%7Eview&amp;lipi=urn%3Ali%3Apage%3Aemail_email_job_alert_single_02%3BFIg6xg8qTpmp96c41gWSjQ%3D%3D\\n</td>\n",
       "      <td>87</td>\n",
       "      <td>not yet</td>\n",
       "    </tr>\n",
       "    <tr>\n",
       "      <th>11</th>\n",
       "      <td>https://www.linkedin.com/jobs/view/sr-analyst-fp-a-%E2%80%93-global-manufacturing-supply-chain-at-cardinal-health-1435832415?utm_campaign=google_jobs_apply&amp;utm_source=google_jobs_apply&amp;utm_medium=organic\\n</td>\n",
       "      <td>78</td>\n",
       "      <td>not yet</td>\n",
       "    </tr>\n",
       "    <tr>\n",
       "      <th>14</th>\n",
       "      <td>https://www.linkedin.com/comm/jobs/view/1625554722?alertAction=markasviewed&amp;savedSearchAuthToken=1%26AQH2kSH8dfSJfwAAAW64z_TKvkD5DCGtrbVCUHAn5nkPXIrXQtInpoCcAHPVrxDuFK4ZE0rsyP0TbQpRNkZn50HseSL5d0kFlIn4gACsFM5QUWzCrXzlPmZBszAomjsP5a3gomTGe9LX1XmUTx0_z5LdC8IYHVXN9YW1Zu8k-yBCpq4dAsBQFXl2YNCjmAzPIZA312p5iTQjNEZPRIZasOf3VSfT4VzMVEa6XtXGjiYrbr6R-tgn-TCdtVQlKK18NvlGQevlA5gKbHn1U6WLfhR0WRJb328WdOsToxgeDR4FHbHUgTb4Jw%26AQbuKVLHwdq5uTbcBZhFLGSGkvqA&amp;savedSearchId=594262034&amp;refId=6d6002b7-9d39-4bd1-95a6-a086472abdf1&amp;trk=eml-job-alert-member-details&amp;midToken=AQHqAZHSwnQLlg&amp;trkEmail=eml-email_job_alert_single_02-null-6-null-null-pbd8v%7Ek3kl9hg2%7E6z-null-jobs%7Eview&amp;lipi=urn%3Ali%3Apage%3Aemail_email_job_alert_single_02%3BFIg6xg8qTpmp96c41gWSjQ%3D%3D\\n</td>\n",
       "      <td>75</td>\n",
       "      <td>not yet</td>\n",
       "    </tr>\n",
       "    <tr>\n",
       "      <th>18</th>\n",
       "      <td>https://www.glassdoor.com/job-listing/fpa-analyst-bae-systems-JV_IC1154532_KO0,11_KE12,23.htm?jl=3402437829&amp;utm_campaign=google_jobs_apply&amp;utm_source=google_jobs_apply&amp;utm_medium=organic</td>\n",
       "      <td>71</td>\n",
       "      <td>not yet</td>\n",
       "    </tr>\n",
       "    <tr>\n",
       "      <th>4</th>\n",
       "      <td>https://www.indeed.com/viewjob?jk=56951762105c62cc&amp;l=United+States&amp;tk=1dqu4m0jb36q1801&amp;from=ja&amp;alid=5dd28f1ae7d95a189587cfdc&amp;utm_campaign=job_alerts&amp;utm_medium=email&amp;utm_source=jobseeker_emails&amp;rgtk=1dqu4m0jb36q1801\\n</td>\n",
       "      <td>66</td>\n",
       "      <td>not yet</td>\n",
       "    </tr>\n",
       "    <tr>\n",
       "      <th>8</th>\n",
       "      <td>https://www.indeed.com/viewjob?jk=710949f4c5006d1e&amp;l=United+States&amp;tk=1dqu4m0jb36q1801&amp;from=ja&amp;alid=5dd28f1ae7d95a189587cfdc&amp;utm_campaign=job_alerts&amp;utm_medium=email&amp;utm_source=jobseeker_emails&amp;rgtk=1dqu4m0jb36q1801\\n</td>\n",
       "      <td>63</td>\n",
       "      <td>not yet</td>\n",
       "    </tr>\n",
       "    <tr>\n",
       "      <th>13</th>\n",
       "      <td>https://www.linkedin.com/comm/jobs/view/1626199321?alertAction=markasviewed&amp;savedSearchAuthToken=1%26AQFqHGLs6PpvwwAAAW64bH7BQyxil2AmQz_5poqkiLHiWussb0bUhHDZpn0FL55g0UuQpa50zTqFfqCinnTce9A_MWbSioMt5Gw1pl-e2cKqtW6l-KDV4pg_hgnkZbdkK_4askle_Ej4UWjJMCuG_tKIDt8nWu_0MREa4PVlXn3xkTXVl7T1sDIIR2EwIOQcT9If3WdYqT6UHyI8sasX_MytxqNz2sZHOkHgMTQuQuY88iwuK1hvZp9Ro2ynTvA0_24QwA5TwPKK2LNfxSeX03gQHqU82APqFx2zZVSsTwlXpkc3I1rXRQ%26AfTLEBkJVAPSARWQXSVWTTFVcbGB&amp;savedSearchId=594131834&amp;refId=f2f95cba-1d7e-4a45-8993-2106e0b8a8c1&amp;trk=eml-job-alert-member-details&amp;midToken=AQHqAZHSwnQLlg&amp;trkEmail=eml-email_job_alert_single_02-null-6-null-null-pbd8v%7Ek3khdrsn%7Et4-null-jobs%7Eview&amp;lipi=urn%3Ali%3Apage%3Aemail_email_job_alert_single_02%3BkC82U5ULQUKAtJ5%2FG2wNUg%3D%3D\\n</td>\n",
       "      <td>60</td>\n",
       "      <td>not yet</td>\n",
       "    </tr>\n",
       "    <tr>\n",
       "      <th>17</th>\n",
       "      <td>https://www.indeed.com/viewjob?jk=dddae86be25cd8a2&amp;l=United+States&amp;tk=1dqu4m0jb36q1801&amp;from=ja&amp;alid=5dd28f1ae7d95a189587cfdc&amp;utm_campaign=job_alerts&amp;utm_medium=email&amp;utm_source=jobseeker_emails&amp;rgtk=1dqu4m0jb36q1801\\n</td>\n",
       "      <td>60</td>\n",
       "      <td>not yet</td>\n",
       "    </tr>\n",
       "    <tr>\n",
       "      <th>0</th>\n",
       "      <td>https://www.indeed.com/viewjob?jk=21253b6779754609&amp;l=United+States&amp;tk=1dqu4m0jb36q1801&amp;from=ja&amp;alid=5dd28f1ae7d95a189587cfdc&amp;utm_campaign=job_alerts&amp;utm_medium=email&amp;utm_source=jobseeker_emails&amp;rgtk=1dqu4m0jb36q1801\\n</td>\n",
       "      <td>57</td>\n",
       "      <td>not yet</td>\n",
       "    </tr>\n",
       "    <tr>\n",
       "      <th>10</th>\n",
       "      <td>https://www.indeed.com/viewjob?jk=29578bca83d164d4&amp;l=United+States&amp;tk=1dqu4m0jb36q1801&amp;from=ja&amp;alid=5dd28f1ae7d95a189587cfdc&amp;utm_campaign=job_alerts&amp;utm_medium=email&amp;utm_source=jobseeker_emails&amp;rgtk=1dqu4m0jb36q1801\\n</td>\n",
       "      <td>52</td>\n",
       "      <td>not yet</td>\n",
       "    </tr>\n",
       "    <tr>\n",
       "      <th>6</th>\n",
       "      <td>https://www.indeed.com/viewjob?jk=710ed6412c9a42e5&amp;l=United+States&amp;tk=1dqu4m0jb36q1801&amp;from=ja&amp;alid=5dd28f1ae7d95a189587cfdc&amp;utm_campaign=job_alerts&amp;utm_medium=email&amp;utm_source=jobseeker_emails&amp;rgtk=1dqu4m0jb36q1801\\n</td>\n",
       "      <td>49</td>\n",
       "      <td>not yet</td>\n",
       "    </tr>\n",
       "    <tr>\n",
       "      <th>7</th>\n",
       "      <td>https://www.indeed.com/viewjob?jk=25ee881e3e97cd30&amp;l=United+States&amp;tk=1dqu4m0jb36q1801&amp;from=ja&amp;alid=5dd28f1ae7d95a189587cfdc&amp;utm_campaign=job_alerts&amp;utm_medium=email&amp;utm_source=jobseeker_emails&amp;rgtk=1dqu4m0jb36q1801\\n</td>\n",
       "      <td>44</td>\n",
       "      <td>not yet</td>\n",
       "    </tr>\n",
       "    <tr>\n",
       "      <th>3</th>\n",
       "      <td>https://www.indeed.com/viewjob?jk=109d904174c9d016&amp;l=United+States&amp;tk=1dqu4m0jb36q1801&amp;from=ja&amp;alid=5dd28f1ae7d95a189587cfdc&amp;utm_campaign=job_alerts&amp;utm_medium=email&amp;utm_source=jobseeker_emails&amp;rgtk=1dqu4m0jb36q1801\\n</td>\n",
       "      <td>43</td>\n",
       "      <td>not yet</td>\n",
       "    </tr>\n",
       "    <tr>\n",
       "      <th>5</th>\n",
       "      <td>https://www.indeed.com/viewjob?jk=eadf193824c19540&amp;l=United+States&amp;tk=1dqu4m0jb36q1801&amp;from=ja&amp;alid=5dd28f1ae7d95a189587cfdc&amp;utm_campaign=job_alerts&amp;utm_medium=email&amp;utm_source=jobseeker_emails&amp;rgtk=1dqu4m0jb36q1801\\n</td>\n",
       "      <td>37</td>\n",
       "      <td>not yet</td>\n",
       "    </tr>\n",
       "    <tr>\n",
       "      <th>1</th>\n",
       "      <td>https://www.indeed.com/viewjob?jk=05517123ad6d7977&amp;l=United+States&amp;tk=1dqu4m0jb36q1801&amp;from=ja&amp;alid=5dd28f1ae7d95a189587cfdc&amp;utm_campaign=job_alerts&amp;utm_medium=email&amp;utm_source=jobseeker_emails&amp;rgtk=1dqu4m0jb36q1801\\n</td>\n",
       "      <td>27</td>\n",
       "      <td>not yet</td>\n",
       "    </tr>\n",
       "    <tr>\n",
       "      <th>12</th>\n",
       "      <td>https://www.linkedin.com/jobs/view/analyst-senior-fp-a-at-cvs-health-1601289944?utm_campaign=google_jobs_apply&amp;utm_source=google_jobs_apply&amp;utm_medium=organic\\n</td>\n",
       "      <td>25</td>\n",
       "      <td>not yet</td>\n",
       "    </tr>\n",
       "    <tr>\n",
       "      <th>9</th>\n",
       "      <td>https://www.indeed.com/viewjob?jk=b4323d1ec5d72250&amp;l=United+States&amp;tk=1dqu4m0jb36q1801&amp;from=ja&amp;advn=9807762053028126&amp;adid=320399629&amp;sjdu=i6xVERweJM_pVUvgf-Mzud2KHack-wE2Lb7KQz0L0LbzcQMXZwCALUHG5DMruHzM&amp;acatk=1dr19s85bp7q7800&amp;pub=e4ea14867e765046&amp;utm_campaign=job_alerts&amp;utm_medium=email&amp;utm_source=jobseeker_emails\\n</td>\n",
       "      <td>15</td>\n",
       "      <td>not yet</td>\n",
       "    </tr>\n",
       "    <tr>\n",
       "      <th>2</th>\n",
       "      <td>https://www.indeed.com/viewjob?jk=3672f6456ae57712&amp;l=United+States&amp;tk=1dqu4m0jb36q1801&amp;from=ja&amp;alid=5dd28f1ae7d95a189587cfdc&amp;utm_campaign=job_alerts&amp;utm_medium=email&amp;utm_source=jobseeker_emails&amp;rgtk=1dqu4m0jb36q1801\\n</td>\n",
       "      <td>2</td>\n",
       "      <td>not yet</td>\n",
       "    </tr>\n",
       "  </tbody>\n",
       "</table>\n",
       "</div>"
      ],
      "text/plain": [
       "                                                                                                                                                                                                                                                                                                                                                                                                                                                                                                                                                                                                                                                                                                                                                                               link  \\\n",
       "16  https://www.linkedin.com/comm/jobs/view/1580526502?alertAction=markasviewed&savedSearchAuthToken=1%26AQHJTfHCdkA87AAAAW65TG5CXPZxacyXKJwvaDz0xDG4-gnOpCyeFc4tSuNiKctEGiUjDncbYlVJRt6Eulbfg1nBbcZ5iyvsgprRh5FA0s7gcZmyRnhhcoToSwV93cIg9wu9Tyn_y7Irb8_Ax3p0BL7tuDzehOGTf5lwT5CksD4-Sm_udia4fMG6Z5H3-9Qj3oaN9jZeWOf0VLQ5CS_knUAHUoPe3nh15f7UasdTrwIZoVbM3KhxGNn6-WdowjubzUEUoXjwSjZGNuz5KiZ4kQZ_B7M1tsYNzeIrkcBskd-lkZEENypsEg%26AYhZRNXQGyks17CMUfv8OzT7rGNU&savedSearchId=594424774&refId=ef71acb5-49f0-452c-b221-b3674ef8f7f6&trk=eml-job-alert-member-details&midToken=AQHqAZHSwnQLlg&trkEmail=eml-email_job_alert_single_02-null-7-null-null-pbd8v%7Ek3kq4bql%7E5h-null-jobs%7Eview&lipi=urn%3Ali%3Apage%3Aemail_email_job_alert_single_02%3BISJddRE8Rle6niPOFijY1A%3D%3D\\n     \n",
       "15  https://www.linkedin.com/comm/jobs/view/1622246747?alertAction=markasviewed&savedSearchAuthToken=1%26AQH2kSH8dfSJfwAAAW64z_TKvkD5DCGtrbVCUHAn5nkPXIrXQtInpoCcAHPVrxDuFK4ZE0rsyP0TbQpRNkZn50HseSL5d0kFlIn4gACsFM5QUWzCrXzlPmZBszAomjsP5a3gomTGe9LX1XmUTx0_z5LdC8IYHVXN9YW1Zu8k-yBCpq4dAsBQFXl2YNCjmAzPIZA312p5iTQjNEZPRIZasOf3VSfT4VzMVEa6XtXGjiYrbr6R-tgn-TCdtVQlKK18NvlGQevlA5gKbHn1U6WLfhR0WRJb328WdOsToxgeDR4FHbHUgTb4Jw%26AQbuKVLHwdq5uTbcBZhFLGSGkvqA&savedSearchId=594262034&refId=6d6002b7-9d39-4bd1-95a6-a086472abdf1&trk=eml-job-alert-member-details&midToken=AQHqAZHSwnQLlg&trkEmail=eml-email_job_alert_single_02-null-12-null-null-pbd8v%7Ek3kl9hg2%7E6z-null-jobs%7Eview&lipi=urn%3Ali%3Apage%3Aemail_email_job_alert_single_02%3BFIg6xg8qTpmp96c41gWSjQ%3D%3D\\n    \n",
       "11  https://www.linkedin.com/jobs/view/sr-analyst-fp-a-%E2%80%93-global-manufacturing-supply-chain-at-cardinal-health-1435832415?utm_campaign=google_jobs_apply&utm_source=google_jobs_apply&utm_medium=organic\\n                                                                                                                                                                                                                                                                                                                                                                                                                                                                                                                                                                     \n",
       "14  https://www.linkedin.com/comm/jobs/view/1625554722?alertAction=markasviewed&savedSearchAuthToken=1%26AQH2kSH8dfSJfwAAAW64z_TKvkD5DCGtrbVCUHAn5nkPXIrXQtInpoCcAHPVrxDuFK4ZE0rsyP0TbQpRNkZn50HseSL5d0kFlIn4gACsFM5QUWzCrXzlPmZBszAomjsP5a3gomTGe9LX1XmUTx0_z5LdC8IYHVXN9YW1Zu8k-yBCpq4dAsBQFXl2YNCjmAzPIZA312p5iTQjNEZPRIZasOf3VSfT4VzMVEa6XtXGjiYrbr6R-tgn-TCdtVQlKK18NvlGQevlA5gKbHn1U6WLfhR0WRJb328WdOsToxgeDR4FHbHUgTb4Jw%26AQbuKVLHwdq5uTbcBZhFLGSGkvqA&savedSearchId=594262034&refId=6d6002b7-9d39-4bd1-95a6-a086472abdf1&trk=eml-job-alert-member-details&midToken=AQHqAZHSwnQLlg&trkEmail=eml-email_job_alert_single_02-null-6-null-null-pbd8v%7Ek3kl9hg2%7E6z-null-jobs%7Eview&lipi=urn%3Ali%3Apage%3Aemail_email_job_alert_single_02%3BFIg6xg8qTpmp96c41gWSjQ%3D%3D\\n     \n",
       "18  https://www.glassdoor.com/job-listing/fpa-analyst-bae-systems-JV_IC1154532_KO0,11_KE12,23.htm?jl=3402437829&utm_campaign=google_jobs_apply&utm_source=google_jobs_apply&utm_medium=organic                                                                                                                                                                                                                                                                                                                                                                                                                                                                                                                                                                                        \n",
       "4   https://www.indeed.com/viewjob?jk=56951762105c62cc&l=United+States&tk=1dqu4m0jb36q1801&from=ja&alid=5dd28f1ae7d95a189587cfdc&utm_campaign=job_alerts&utm_medium=email&utm_source=jobseeker_emails&rgtk=1dqu4m0jb36q1801\\n                                                                                                                                                                                                                                                                                                                                                                                                                                                                                                                                                         \n",
       "8   https://www.indeed.com/viewjob?jk=710949f4c5006d1e&l=United+States&tk=1dqu4m0jb36q1801&from=ja&alid=5dd28f1ae7d95a189587cfdc&utm_campaign=job_alerts&utm_medium=email&utm_source=jobseeker_emails&rgtk=1dqu4m0jb36q1801\\n                                                                                                                                                                                                                                                                                                                                                                                                                                                                                                                                                         \n",
       "13  https://www.linkedin.com/comm/jobs/view/1626199321?alertAction=markasviewed&savedSearchAuthToken=1%26AQFqHGLs6PpvwwAAAW64bH7BQyxil2AmQz_5poqkiLHiWussb0bUhHDZpn0FL55g0UuQpa50zTqFfqCinnTce9A_MWbSioMt5Gw1pl-e2cKqtW6l-KDV4pg_hgnkZbdkK_4askle_Ej4UWjJMCuG_tKIDt8nWu_0MREa4PVlXn3xkTXVl7T1sDIIR2EwIOQcT9If3WdYqT6UHyI8sasX_MytxqNz2sZHOkHgMTQuQuY88iwuK1hvZp9Ro2ynTvA0_24QwA5TwPKK2LNfxSeX03gQHqU82APqFx2zZVSsTwlXpkc3I1rXRQ%26AfTLEBkJVAPSARWQXSVWTTFVcbGB&savedSearchId=594131834&refId=f2f95cba-1d7e-4a45-8993-2106e0b8a8c1&trk=eml-job-alert-member-details&midToken=AQHqAZHSwnQLlg&trkEmail=eml-email_job_alert_single_02-null-6-null-null-pbd8v%7Ek3khdrsn%7Et4-null-jobs%7Eview&lipi=urn%3Ali%3Apage%3Aemail_email_job_alert_single_02%3BkC82U5ULQUKAtJ5%2FG2wNUg%3D%3D\\n   \n",
       "17  https://www.indeed.com/viewjob?jk=dddae86be25cd8a2&l=United+States&tk=1dqu4m0jb36q1801&from=ja&alid=5dd28f1ae7d95a189587cfdc&utm_campaign=job_alerts&utm_medium=email&utm_source=jobseeker_emails&rgtk=1dqu4m0jb36q1801\\n                                                                                                                                                                                                                                                                                                                                                                                                                                                                                                                                                         \n",
       "0   https://www.indeed.com/viewjob?jk=21253b6779754609&l=United+States&tk=1dqu4m0jb36q1801&from=ja&alid=5dd28f1ae7d95a189587cfdc&utm_campaign=job_alerts&utm_medium=email&utm_source=jobseeker_emails&rgtk=1dqu4m0jb36q1801\\n                                                                                                                                                                                                                                                                                                                                                                                                                                                                                                                                                         \n",
       "10  https://www.indeed.com/viewjob?jk=29578bca83d164d4&l=United+States&tk=1dqu4m0jb36q1801&from=ja&alid=5dd28f1ae7d95a189587cfdc&utm_campaign=job_alerts&utm_medium=email&utm_source=jobseeker_emails&rgtk=1dqu4m0jb36q1801\\n                                                                                                                                                                                                                                                                                                                                                                                                                                                                                                                                                         \n",
       "6   https://www.indeed.com/viewjob?jk=710ed6412c9a42e5&l=United+States&tk=1dqu4m0jb36q1801&from=ja&alid=5dd28f1ae7d95a189587cfdc&utm_campaign=job_alerts&utm_medium=email&utm_source=jobseeker_emails&rgtk=1dqu4m0jb36q1801\\n                                                                                                                                                                                                                                                                                                                                                                                                                                                                                                                                                         \n",
       "7   https://www.indeed.com/viewjob?jk=25ee881e3e97cd30&l=United+States&tk=1dqu4m0jb36q1801&from=ja&alid=5dd28f1ae7d95a189587cfdc&utm_campaign=job_alerts&utm_medium=email&utm_source=jobseeker_emails&rgtk=1dqu4m0jb36q1801\\n                                                                                                                                                                                                                                                                                                                                                                                                                                                                                                                                                         \n",
       "3   https://www.indeed.com/viewjob?jk=109d904174c9d016&l=United+States&tk=1dqu4m0jb36q1801&from=ja&alid=5dd28f1ae7d95a189587cfdc&utm_campaign=job_alerts&utm_medium=email&utm_source=jobseeker_emails&rgtk=1dqu4m0jb36q1801\\n                                                                                                                                                                                                                                                                                                                                                                                                                                                                                                                                                         \n",
       "5   https://www.indeed.com/viewjob?jk=eadf193824c19540&l=United+States&tk=1dqu4m0jb36q1801&from=ja&alid=5dd28f1ae7d95a189587cfdc&utm_campaign=job_alerts&utm_medium=email&utm_source=jobseeker_emails&rgtk=1dqu4m0jb36q1801\\n                                                                                                                                                                                                                                                                                                                                                                                                                                                                                                                                                         \n",
       "1   https://www.indeed.com/viewjob?jk=05517123ad6d7977&l=United+States&tk=1dqu4m0jb36q1801&from=ja&alid=5dd28f1ae7d95a189587cfdc&utm_campaign=job_alerts&utm_medium=email&utm_source=jobseeker_emails&rgtk=1dqu4m0jb36q1801\\n                                                                                                                                                                                                                                                                                                                                                                                                                                                                                                                                                         \n",
       "12  https://www.linkedin.com/jobs/view/analyst-senior-fp-a-at-cvs-health-1601289944?utm_campaign=google_jobs_apply&utm_source=google_jobs_apply&utm_medium=organic\\n                                                                                                                                                                                                                                                                                                                                                                                                                                                                                                                                                                                                                  \n",
       "9   https://www.indeed.com/viewjob?jk=b4323d1ec5d72250&l=United+States&tk=1dqu4m0jb36q1801&from=ja&advn=9807762053028126&adid=320399629&sjdu=i6xVERweJM_pVUvgf-Mzud2KHack-wE2Lb7KQz0L0LbzcQMXZwCALUHG5DMruHzM&acatk=1dr19s85bp7q7800&pub=e4ea14867e765046&utm_campaign=job_alerts&utm_medium=email&utm_source=jobseeker_emails\\n                                                                                                                                                                                                                                                                                                                                                                                                                                                      \n",
       "2   https://www.indeed.com/viewjob?jk=3672f6456ae57712&l=United+States&tk=1dqu4m0jb36q1801&from=ja&alid=5dd28f1ae7d95a189587cfdc&utm_campaign=job_alerts&utm_medium=email&utm_source=jobseeker_emails&rgtk=1dqu4m0jb36q1801\\n                                                                                                                                                                                                                                                                                                                                                                                                                                                                                                                                                         \n",
       "\n",
       "    appeal application  \n",
       "16  97      yes         \n",
       "15  87      not yet     \n",
       "11  78      not yet     \n",
       "14  75      not yet     \n",
       "18  71      not yet     \n",
       "4   66      not yet     \n",
       "8   63      not yet     \n",
       "13  60      not yet     \n",
       "17  60      not yet     \n",
       "0   57      not yet     \n",
       "10  52      not yet     \n",
       "6   49      not yet     \n",
       "7   44      not yet     \n",
       "3   43      not yet     \n",
       "5   37      not yet     \n",
       "1   27      not yet     \n",
       "12  25      not yet     \n",
       "9   15      not yet     \n",
       "2   2       not yet     "
      ]
     },
     "execution_count": 27,
     "metadata": {},
     "output_type": "execute_result"
    }
   ],
   "source": []
  },
  {
   "cell_type": "code",
   "execution_count": null,
   "metadata": {},
   "outputs": [],
   "source": []
  }
 ],
 "metadata": {
  "kernelspec": {
   "display_name": "Python 3",
   "language": "python",
   "name": "python3"
  },
  "language_info": {
   "codemirror_mode": {
    "name": "ipython",
    "version": 3
   },
   "file_extension": ".py",
   "mimetype": "text/x-python",
   "name": "python",
   "nbconvert_exporter": "python",
   "pygments_lexer": "ipython3",
   "version": "3.6.8"
  }
 },
 "nbformat": 4,
 "nbformat_minor": 2
}
